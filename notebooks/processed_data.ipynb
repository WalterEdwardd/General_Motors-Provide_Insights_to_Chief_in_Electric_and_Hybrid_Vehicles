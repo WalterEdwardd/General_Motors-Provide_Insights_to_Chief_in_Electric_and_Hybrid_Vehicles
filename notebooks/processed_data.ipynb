{
 "cells": [
  {
   "cell_type": "markdown",
   "metadata": {},
   "source": [
    "# Preparing"
   ]
  },
  {
   "cell_type": "markdown",
   "metadata": {},
   "source": [
    "## Importing Required Libraries"
   ]
  },
  {
   "cell_type": "code",
   "execution_count": 1,
   "metadata": {},
   "outputs": [],
   "source": [
    "# import library used for data processing\n",
    "import pandas as pd\n",
    "pd.set_option('display.max_columns', None) # to remove the limit of columns shows as output\n",
    "import numpy as np\n",
    "import datetime as dt\n",
    "import copy\n",
    "from IPython.display import display\n",
    "\n",
    "# import library for visualization\n",
    "import seaborn as sns\n",
    "import matplotlib.pyplot as plt\n",
    "%matplotlib inline"
   ]
  },
  {
   "cell_type": "markdown",
   "metadata": {},
   "source": [
    "## Importing Data"
   ]
  },
  {
   "cell_type": "code",
   "execution_count": 11,
   "metadata": {},
   "outputs": [],
   "source": [
    "# sales by state\n",
    "sales_by_states = pd.read_csv(\"C:/Users/PC/Downloads/General_Motors-Provide_Insights_to_Chief_in_Electric_and_Hybrid_Vehicles/data/raw_data/electric_vehicle_sales_by_state.csv\")\n",
    "# sales by maker\n",
    "sales_by_makers = pd.read_csv(\"C:/Users/PC/Downloads/General_Motors-Provide_Insights_to_Chief_in_Electric_and_Hybrid_Vehicles/data/raw_data/electric_vehicle_sales_by_makers.csv\")\n",
    "# dim_date\n",
    "dim_date = pd.read_csv(\"C:/Users/PC/Downloads/General_Motors-Provide_Insights_to_Chief_in_Electric_and_Hybrid_Vehicles/data/raw_data/dim_date.csv\")"
   ]
  },
  {
   "cell_type": "markdown",
   "metadata": {},
   "source": [
    "## Data Understanding"
   ]
  },
  {
   "cell_type": "markdown",
   "metadata": {},
   "source": [
    "### Electric Vehicle Sales by State\n",
    "- date: The date on which the data was recorded. Format: DD-MMM-YY. (Data is recorded on a monthly basis)\n",
    "- state: The name of the state where the sales data is recorded. This indicates the geographical location within India.\n",
    "- vehicle_category: The category of the vehicle, specifying whether it is a 2-Wheeler or a 4-Wheeler.\n",
    "- electric_vehicles_sold: The number of electric vehicles sold in the specified state and category on the given date.\n",
    "- total_vehicles_sold: The total number of vehicles (including both electric and non-electric) sold in the specified state and category on the given date."
   ]
  },
  {
   "cell_type": "code",
   "execution_count": 12,
   "metadata": {},
   "outputs": [
    {
     "data": {
      "text/html": [
       "<div>\n",
       "<style scoped>\n",
       "    .dataframe tbody tr th:only-of-type {\n",
       "        vertical-align: middle;\n",
       "    }\n",
       "\n",
       "    .dataframe tbody tr th {\n",
       "        vertical-align: top;\n",
       "    }\n",
       "\n",
       "    .dataframe thead th {\n",
       "        text-align: right;\n",
       "    }\n",
       "</style>\n",
       "<table border=\"1\" class=\"dataframe\">\n",
       "  <thead>\n",
       "    <tr style=\"text-align: right;\">\n",
       "      <th></th>\n",
       "      <th>date</th>\n",
       "      <th>state</th>\n",
       "      <th>vehicle_category</th>\n",
       "      <th>electric_vehicles_sold</th>\n",
       "      <th>total_vehicles_sold</th>\n",
       "    </tr>\n",
       "  </thead>\n",
       "  <tbody>\n",
       "    <tr>\n",
       "      <th>0</th>\n",
       "      <td>01-Apr-21</td>\n",
       "      <td>Sikkim</td>\n",
       "      <td>2-Wheelers</td>\n",
       "      <td>0</td>\n",
       "      <td>398</td>\n",
       "    </tr>\n",
       "    <tr>\n",
       "      <th>1</th>\n",
       "      <td>01-Apr-21</td>\n",
       "      <td>Sikkim</td>\n",
       "      <td>4-Wheelers</td>\n",
       "      <td>0</td>\n",
       "      <td>361</td>\n",
       "    </tr>\n",
       "    <tr>\n",
       "      <th>2</th>\n",
       "      <td>01-May-21</td>\n",
       "      <td>Sikkim</td>\n",
       "      <td>2-Wheelers</td>\n",
       "      <td>0</td>\n",
       "      <td>113</td>\n",
       "    </tr>\n",
       "    <tr>\n",
       "      <th>3</th>\n",
       "      <td>01-May-21</td>\n",
       "      <td>Sikkim</td>\n",
       "      <td>4-Wheelers</td>\n",
       "      <td>0</td>\n",
       "      <td>98</td>\n",
       "    </tr>\n",
       "    <tr>\n",
       "      <th>4</th>\n",
       "      <td>01-Jun-21</td>\n",
       "      <td>Sikkim</td>\n",
       "      <td>2-Wheelers</td>\n",
       "      <td>0</td>\n",
       "      <td>229</td>\n",
       "    </tr>\n",
       "  </tbody>\n",
       "</table>\n",
       "</div>"
      ],
      "text/plain": [
       "        date   state vehicle_category  electric_vehicles_sold  \\\n",
       "0  01-Apr-21  Sikkim       2-Wheelers                       0   \n",
       "1  01-Apr-21  Sikkim       4-Wheelers                       0   \n",
       "2  01-May-21  Sikkim       2-Wheelers                       0   \n",
       "3  01-May-21  Sikkim       4-Wheelers                       0   \n",
       "4  01-Jun-21  Sikkim       2-Wheelers                       0   \n",
       "\n",
       "   total_vehicles_sold  \n",
       "0                  398  \n",
       "1                  361  \n",
       "2                  113  \n",
       "3                   98  \n",
       "4                  229  "
      ]
     },
     "execution_count": 12,
     "metadata": {},
     "output_type": "execute_result"
    }
   ],
   "source": [
    "# top records\n",
    "sales_by_states.head()"
   ]
  },
  {
   "cell_type": "code",
   "execution_count": 62,
   "metadata": {},
   "outputs": [
    {
     "data": {
      "text/html": [
       "<div>\n",
       "<style scoped>\n",
       "    .dataframe tbody tr th:only-of-type {\n",
       "        vertical-align: middle;\n",
       "    }\n",
       "\n",
       "    .dataframe tbody tr th {\n",
       "        vertical-align: top;\n",
       "    }\n",
       "\n",
       "    .dataframe thead th {\n",
       "        text-align: right;\n",
       "    }\n",
       "</style>\n",
       "<table border=\"1\" class=\"dataframe\">\n",
       "  <thead>\n",
       "    <tr style=\"text-align: right;\">\n",
       "      <th></th>\n",
       "      <th>date</th>\n",
       "      <th>state</th>\n",
       "      <th>vehicle_category</th>\n",
       "      <th>electric_vehicles_sold</th>\n",
       "      <th>total_vehicles_sold</th>\n",
       "      <th>non_electric_vehicles_sold</th>\n",
       "    </tr>\n",
       "  </thead>\n",
       "  <tbody>\n",
       "    <tr>\n",
       "      <th>2440</th>\n",
       "      <td>01-Mar-24</td>\n",
       "      <td>Mizoram</td>\n",
       "      <td>2-Wheelers</td>\n",
       "      <td>58</td>\n",
       "      <td>1932</td>\n",
       "      <td>1874</td>\n",
       "    </tr>\n",
       "    <tr>\n",
       "      <th>2441</th>\n",
       "      <td>01-Mar-24</td>\n",
       "      <td>DNH and DD</td>\n",
       "      <td>2-Wheelers</td>\n",
       "      <td>25</td>\n",
       "      <td>780</td>\n",
       "      <td>755</td>\n",
       "    </tr>\n",
       "    <tr>\n",
       "      <th>2442</th>\n",
       "      <td>01-Mar-24</td>\n",
       "      <td>Manipur</td>\n",
       "      <td>2-Wheelers</td>\n",
       "      <td>13</td>\n",
       "      <td>1394</td>\n",
       "      <td>1381</td>\n",
       "    </tr>\n",
       "    <tr>\n",
       "      <th>2443</th>\n",
       "      <td>01-Mar-24</td>\n",
       "      <td>Andaman &amp; Nicobar Island</td>\n",
       "      <td>2-Wheelers</td>\n",
       "      <td>2</td>\n",
       "      <td>447</td>\n",
       "      <td>445</td>\n",
       "    </tr>\n",
       "    <tr>\n",
       "      <th>2444</th>\n",
       "      <td>01-Mar-24</td>\n",
       "      <td>Nagaland</td>\n",
       "      <td>2-Wheelers</td>\n",
       "      <td>2</td>\n",
       "      <td>1180</td>\n",
       "      <td>1178</td>\n",
       "    </tr>\n",
       "  </tbody>\n",
       "</table>\n",
       "</div>"
      ],
      "text/plain": [
       "           date                     state vehicle_category  \\\n",
       "2440  01-Mar-24                   Mizoram       2-Wheelers   \n",
       "2441  01-Mar-24                DNH and DD       2-Wheelers   \n",
       "2442  01-Mar-24                   Manipur       2-Wheelers   \n",
       "2443  01-Mar-24  Andaman & Nicobar Island       2-Wheelers   \n",
       "2444  01-Mar-24                  Nagaland       2-Wheelers   \n",
       "\n",
       "      electric_vehicles_sold  total_vehicles_sold  non_electric_vehicles_sold  \n",
       "2440                      58                 1932                        1874  \n",
       "2441                      25                  780                         755  \n",
       "2442                      13                 1394                        1381  \n",
       "2443                       2                  447                         445  \n",
       "2444                       2                 1180                        1178  "
      ]
     },
     "execution_count": 62,
     "metadata": {},
     "output_type": "execute_result"
    }
   ],
   "source": [
    "# last record\n",
    "sales_by_states.tail()"
   ]
  },
  {
   "cell_type": "code",
   "execution_count": 60,
   "metadata": {},
   "outputs": [],
   "source": [
    "# create a new column that contain non electric vehicles sold values\n",
    "sales_by_states['non_electric_vehicles_sold'] = sales_by_states['total_vehicles_sold'] - sales_by_states['electric_vehicles_sold']"
   ]
  },
  {
   "cell_type": "code",
   "execution_count": 61,
   "metadata": {},
   "outputs": [
    {
     "name": "stdout",
     "output_type": "stream",
     "text": [
      "Shape of the Sales by State Data :(2445, 6)\n"
     ]
    }
   ],
   "source": [
    "# check data shape\n",
    "print(f\"Shape of the Sales by State Data :{sales_by_states.shape}\")"
   ]
  },
  {
   "cell_type": "code",
   "execution_count": 15,
   "metadata": {},
   "outputs": [
    {
     "name": "stdout",
     "output_type": "stream",
     "text": [
      "<class 'pandas.core.frame.DataFrame'>\n",
      "RangeIndex: 2445 entries, 0 to 2444\n",
      "Data columns (total 5 columns):\n",
      " #   Column                  Non-Null Count  Dtype \n",
      "---  ------                  --------------  ----- \n",
      " 0   date                    2445 non-null   object\n",
      " 1   state                   2445 non-null   object\n",
      " 2   vehicle_category        2445 non-null   object\n",
      " 3   electric_vehicles_sold  2445 non-null   int64 \n",
      " 4   total_vehicles_sold     2445 non-null   int64 \n",
      "dtypes: int64(2), object(3)\n",
      "memory usage: 95.6+ KB\n"
     ]
    }
   ],
   "source": [
    "# check the data type of all columns and non values present in each\n",
    "sales_by_states.info()"
   ]
  },
  {
   "cell_type": "code",
   "execution_count": 16,
   "metadata": {},
   "outputs": [
    {
     "data": {
      "text/html": [
       "<div>\n",
       "<style scoped>\n",
       "    .dataframe tbody tr th:only-of-type {\n",
       "        vertical-align: middle;\n",
       "    }\n",
       "\n",
       "    .dataframe tbody tr th {\n",
       "        vertical-align: top;\n",
       "    }\n",
       "\n",
       "    .dataframe thead th {\n",
       "        text-align: right;\n",
       "    }\n",
       "</style>\n",
       "<table border=\"1\" class=\"dataframe\">\n",
       "  <thead>\n",
       "    <tr style=\"text-align: right;\">\n",
       "      <th></th>\n",
       "      <th>date</th>\n",
       "      <th>state</th>\n",
       "      <th>vehicle_category</th>\n",
       "      <th>electric_vehicles_sold</th>\n",
       "      <th>total_vehicles_sold</th>\n",
       "    </tr>\n",
       "  </thead>\n",
       "  <tbody>\n",
       "  </tbody>\n",
       "</table>\n",
       "</div>"
      ],
      "text/plain": [
       "Empty DataFrame\n",
       "Columns: [date, state, vehicle_category, electric_vehicles_sold, total_vehicles_sold]\n",
       "Index: []"
      ]
     },
     "execution_count": 16,
     "metadata": {},
     "output_type": "execute_result"
    }
   ],
   "source": [
    "# duplicate check\n",
    "sales_by_states[sales_by_states.duplicated()]"
   ]
  },
  {
   "cell_type": "code",
   "execution_count": 17,
   "metadata": {},
   "outputs": [
    {
     "data": {
      "text/plain": [
       "date                        36\n",
       "state                       35\n",
       "vehicle_category             2\n",
       "electric_vehicles_sold     921\n",
       "total_vehicles_sold       2225\n",
       "dtype: int64"
      ]
     },
     "execution_count": 17,
     "metadata": {},
     "output_type": "execute_result"
    }
   ],
   "source": [
    "# number of unique value in each column\n",
    "sales_by_states.nunique()"
   ]
  },
  {
   "cell_type": "code",
   "execution_count": 22,
   "metadata": {},
   "outputs": [
    {
     "name": "stdout",
     "output_type": "stream",
     "text": [
      "['Sikkim' 'Andaman & Nicobar Island' 'Arunachal Pradesh' 'Assam'\n",
      " 'Chhattisgarh' 'DNH and DD' 'Jammu and Kashmir' 'Ladakh' 'Manipur'\n",
      " 'Meghalaya' 'Mizoram' 'Nagaland' 'Puducherry' 'Tripura' 'Bihar'\n",
      " 'Chandigarh' 'Delhi' 'Madhya Pradesh' 'Odisha' 'Punjab' 'Uttarakhand'\n",
      " 'Himachal Pradesh' 'Andaman & Nicobar' 'Haryana' 'Jharkhand'\n",
      " 'Andhra Pradesh' 'Goa' 'Gujarat' 'Karnataka' 'Kerala' 'Maharashtra'\n",
      " 'Rajasthan' 'Tamil Nadu' 'Uttar Pradesh' 'West Bengal']\n",
      "Number of Unique State in Data is 35\n"
     ]
    }
   ],
   "source": [
    "# check unique values in state column\n",
    "print(f\"{sales_by_states['state'].unique()}\")\n",
    "print(f\"Number of Unique State in Data is {sales_by_states['state'].unique().shape[0]}\")"
   ]
  },
  {
   "cell_type": "code",
   "execution_count": 24,
   "metadata": {},
   "outputs": [
    {
     "name": "stdout",
     "output_type": "stream",
     "text": [
      "['2-Wheelers' '4-Wheelers']\n",
      "Number of Unique Vehicle Category in Data is 2\n"
     ]
    }
   ],
   "source": [
    "# check unique values in vehicle category column\n",
    "print(f\"{sales_by_states['vehicle_category'].unique()}\")\n",
    "print(f\"Number of Unique Vehicle Category in Data is {sales_by_states['vehicle_category'].unique().shape[0]}\")"
   ]
  },
  {
   "cell_type": "code",
   "execution_count": 28,
   "metadata": {},
   "outputs": [
    {
     "data": {
      "text/plain": [
       "count     2445.000000\n",
       "mean       845.035174\n",
       "std       2185.167744\n",
       "min          0.000000\n",
       "25%          2.000000\n",
       "50%         54.000000\n",
       "75%        534.000000\n",
       "max      26668.000000\n",
       "Name: electric_vehicles_sold, dtype: float64"
      ]
     },
     "execution_count": 28,
     "metadata": {},
     "output_type": "execute_result"
    }
   ],
   "source": [
    "# check numerical values in electric vehicle sold column\n",
    "sales_by_states['electric_vehicles_sold'].describe()"
   ]
  },
  {
   "cell_type": "code",
   "execution_count": 29,
   "metadata": {},
   "outputs": [
    {
     "data": {
      "text/plain": [
       "count      2445.000000\n",
       "mean      23402.966053\n",
       "std       38353.266389\n",
       "min           1.000000\n",
       "25%        1158.000000\n",
       "50%        6098.000000\n",
       "75%       29396.000000\n",
       "max      387983.000000\n",
       "Name: total_vehicles_sold, dtype: float64"
      ]
     },
     "execution_count": 29,
     "metadata": {},
     "output_type": "execute_result"
    }
   ],
   "source": [
    "# check numerical values in total vehicles sold column\n",
    "sales_by_states['total_vehicles_sold'].describe()"
   ]
  },
  {
   "cell_type": "markdown",
   "metadata": {},
   "source": [
    "### Electric Vehicle Sales by Makers\n",
    "- date: The date on which the sales data was recorded. Format: DD-MMM-YY. (Data is recorded on a monthly basis)\n",
    "- vehicle_category: The category of the vehicle, specifying whether it is a 2-Wheeler or a 4-Wheeler.\n",
    "- maker: The name of the manufacturer or brand of the electric vehicle.\n",
    "- electric_vehicles_sold: The number of electric vehicles sold by the specified maker in the given category on the given date."
   ]
  },
  {
   "cell_type": "code",
   "execution_count": 30,
   "metadata": {},
   "outputs": [
    {
     "data": {
      "text/html": [
       "<div>\n",
       "<style scoped>\n",
       "    .dataframe tbody tr th:only-of-type {\n",
       "        vertical-align: middle;\n",
       "    }\n",
       "\n",
       "    .dataframe tbody tr th {\n",
       "        vertical-align: top;\n",
       "    }\n",
       "\n",
       "    .dataframe thead th {\n",
       "        text-align: right;\n",
       "    }\n",
       "</style>\n",
       "<table border=\"1\" class=\"dataframe\">\n",
       "  <thead>\n",
       "    <tr style=\"text-align: right;\">\n",
       "      <th></th>\n",
       "      <th>date</th>\n",
       "      <th>vehicle_category</th>\n",
       "      <th>maker</th>\n",
       "      <th>electric_vehicles_sold</th>\n",
       "    </tr>\n",
       "  </thead>\n",
       "  <tbody>\n",
       "    <tr>\n",
       "      <th>0</th>\n",
       "      <td>01-Apr-21</td>\n",
       "      <td>2-Wheelers</td>\n",
       "      <td>OLA ELECTRIC</td>\n",
       "      <td>0</td>\n",
       "    </tr>\n",
       "    <tr>\n",
       "      <th>1</th>\n",
       "      <td>01-Apr-22</td>\n",
       "      <td>2-Wheelers</td>\n",
       "      <td>OKAYA EV</td>\n",
       "      <td>0</td>\n",
       "    </tr>\n",
       "    <tr>\n",
       "      <th>2</th>\n",
       "      <td>01-May-21</td>\n",
       "      <td>2-Wheelers</td>\n",
       "      <td>OLA ELECTRIC</td>\n",
       "      <td>0</td>\n",
       "    </tr>\n",
       "    <tr>\n",
       "      <th>3</th>\n",
       "      <td>01-Jun-21</td>\n",
       "      <td>2-Wheelers</td>\n",
       "      <td>OLA ELECTRIC</td>\n",
       "      <td>0</td>\n",
       "    </tr>\n",
       "    <tr>\n",
       "      <th>4</th>\n",
       "      <td>01-Jul-21</td>\n",
       "      <td>2-Wheelers</td>\n",
       "      <td>OLA ELECTRIC</td>\n",
       "      <td>0</td>\n",
       "    </tr>\n",
       "  </tbody>\n",
       "</table>\n",
       "</div>"
      ],
      "text/plain": [
       "        date vehicle_category         maker  electric_vehicles_sold\n",
       "0  01-Apr-21       2-Wheelers  OLA ELECTRIC                       0\n",
       "1  01-Apr-22       2-Wheelers      OKAYA EV                       0\n",
       "2  01-May-21       2-Wheelers  OLA ELECTRIC                       0\n",
       "3  01-Jun-21       2-Wheelers  OLA ELECTRIC                       0\n",
       "4  01-Jul-21       2-Wheelers  OLA ELECTRIC                       0"
      ]
     },
     "execution_count": 30,
     "metadata": {},
     "output_type": "execute_result"
    }
   ],
   "source": [
    "# top records\n",
    "sales_by_makers.head()"
   ]
  },
  {
   "cell_type": "code",
   "execution_count": 31,
   "metadata": {},
   "outputs": [
    {
     "data": {
      "text/html": [
       "<div>\n",
       "<style scoped>\n",
       "    .dataframe tbody tr th:only-of-type {\n",
       "        vertical-align: middle;\n",
       "    }\n",
       "\n",
       "    .dataframe tbody tr th {\n",
       "        vertical-align: top;\n",
       "    }\n",
       "\n",
       "    .dataframe thead th {\n",
       "        text-align: right;\n",
       "    }\n",
       "</style>\n",
       "<table border=\"1\" class=\"dataframe\">\n",
       "  <thead>\n",
       "    <tr style=\"text-align: right;\">\n",
       "      <th></th>\n",
       "      <th>date</th>\n",
       "      <th>vehicle_category</th>\n",
       "      <th>maker</th>\n",
       "      <th>electric_vehicles_sold</th>\n",
       "    </tr>\n",
       "  </thead>\n",
       "  <tbody>\n",
       "    <tr>\n",
       "      <th>811</th>\n",
       "      <td>01-Mar-24</td>\n",
       "      <td>2-Wheelers</td>\n",
       "      <td>BGAUSS</td>\n",
       "      <td>3070</td>\n",
       "    </tr>\n",
       "    <tr>\n",
       "      <th>812</th>\n",
       "      <td>01-Mar-24</td>\n",
       "      <td>2-Wheelers</td>\n",
       "      <td>BATTRE ELECTRIC</td>\n",
       "      <td>625</td>\n",
       "    </tr>\n",
       "    <tr>\n",
       "      <th>813</th>\n",
       "      <td>01-Mar-24</td>\n",
       "      <td>2-Wheelers</td>\n",
       "      <td>KINETIC GREEN</td>\n",
       "      <td>3915</td>\n",
       "    </tr>\n",
       "    <tr>\n",
       "      <th>814</th>\n",
       "      <td>01-Mar-24</td>\n",
       "      <td>2-Wheelers</td>\n",
       "      <td>REVOLT</td>\n",
       "      <td>585</td>\n",
       "    </tr>\n",
       "    <tr>\n",
       "      <th>815</th>\n",
       "      <td>01-Mar-24</td>\n",
       "      <td>2-Wheelers</td>\n",
       "      <td>OTHERS</td>\n",
       "      <td>10579</td>\n",
       "    </tr>\n",
       "  </tbody>\n",
       "</table>\n",
       "</div>"
      ],
      "text/plain": [
       "          date vehicle_category            maker  electric_vehicles_sold\n",
       "811  01-Mar-24       2-Wheelers           BGAUSS                    3070\n",
       "812  01-Mar-24       2-Wheelers  BATTRE ELECTRIC                     625\n",
       "813  01-Mar-24       2-Wheelers    KINETIC GREEN                    3915\n",
       "814  01-Mar-24       2-Wheelers           REVOLT                     585\n",
       "815  01-Mar-24       2-Wheelers           OTHERS                   10579"
      ]
     },
     "execution_count": 31,
     "metadata": {},
     "output_type": "execute_result"
    }
   ],
   "source": [
    "# last records\n",
    "sales_by_makers.tail()"
   ]
  },
  {
   "cell_type": "code",
   "execution_count": 32,
   "metadata": {},
   "outputs": [
    {
     "name": "stdout",
     "output_type": "stream",
     "text": [
      "Shape of the Sales by Maker Data : (816, 4)\n"
     ]
    }
   ],
   "source": [
    "# check data shape\n",
    "print(f\"Shape of the Sales by Maker Data : {sales_by_makers.shape}\")"
   ]
  },
  {
   "cell_type": "code",
   "execution_count": 34,
   "metadata": {},
   "outputs": [
    {
     "name": "stdout",
     "output_type": "stream",
     "text": [
      "<class 'pandas.core.frame.DataFrame'>\n",
      "RangeIndex: 816 entries, 0 to 815\n",
      "Data columns (total 4 columns):\n",
      " #   Column                  Non-Null Count  Dtype \n",
      "---  ------                  --------------  ----- \n",
      " 0   date                    816 non-null    object\n",
      " 1   vehicle_category        816 non-null    object\n",
      " 2   maker                   816 non-null    object\n",
      " 3   electric_vehicles_sold  816 non-null    int64 \n",
      "dtypes: int64(1), object(3)\n",
      "memory usage: 25.6+ KB\n"
     ]
    }
   ],
   "source": [
    "# check the data type of all columns and non values present in each\n",
    "sales_by_makers.info()"
   ]
  },
  {
   "cell_type": "code",
   "execution_count": 35,
   "metadata": {},
   "outputs": [
    {
     "data": {
      "text/html": [
       "<div>\n",
       "<style scoped>\n",
       "    .dataframe tbody tr th:only-of-type {\n",
       "        vertical-align: middle;\n",
       "    }\n",
       "\n",
       "    .dataframe tbody tr th {\n",
       "        vertical-align: top;\n",
       "    }\n",
       "\n",
       "    .dataframe thead th {\n",
       "        text-align: right;\n",
       "    }\n",
       "</style>\n",
       "<table border=\"1\" class=\"dataframe\">\n",
       "  <thead>\n",
       "    <tr style=\"text-align: right;\">\n",
       "      <th></th>\n",
       "      <th>date</th>\n",
       "      <th>vehicle_category</th>\n",
       "      <th>maker</th>\n",
       "      <th>electric_vehicles_sold</th>\n",
       "    </tr>\n",
       "  </thead>\n",
       "  <tbody>\n",
       "  </tbody>\n",
       "</table>\n",
       "</div>"
      ],
      "text/plain": [
       "Empty DataFrame\n",
       "Columns: [date, vehicle_category, maker, electric_vehicles_sold]\n",
       "Index: []"
      ]
     },
     "execution_count": 35,
     "metadata": {},
     "output_type": "execute_result"
    }
   ],
   "source": [
    "# duplicate check\n",
    "sales_by_makers[sales_by_makers.duplicated()]"
   ]
  },
  {
   "cell_type": "code",
   "execution_count": 36,
   "metadata": {},
   "outputs": [
    {
     "data": {
      "text/plain": [
       "date                       36\n",
       "vehicle_category            2\n",
       "maker                      26\n",
       "electric_vehicles_sold    603\n",
       "dtype: int64"
      ]
     },
     "execution_count": 36,
     "metadata": {},
     "output_type": "execute_result"
    }
   ],
   "source": [
    "# number of unique values in each column\n",
    "sales_by_makers.nunique()"
   ]
  },
  {
   "cell_type": "code",
   "execution_count": 37,
   "metadata": {},
   "outputs": [
    {
     "name": "stdout",
     "output_type": "stream",
     "text": [
      "['2-Wheelers' '4-Wheelers']\n",
      "Number of Unique Vehicle Category in Data is 2\n"
     ]
    }
   ],
   "source": [
    "# check unique values in vehicle category column\n",
    "print(f\"{sales_by_makers['vehicle_category'].unique()}\")\n",
    "print(f\"Number of Unique Vehicle Category in Data is {sales_by_makers['vehicle_category'].unique().shape[0]}\")"
   ]
  },
  {
   "cell_type": "code",
   "execution_count": 38,
   "metadata": {},
   "outputs": [
    {
     "name": "stdout",
     "output_type": "stream",
     "text": [
      "['OLA ELECTRIC' 'OKAYA EV' 'BYD India' 'PCA Automobiles' 'BMW India'\n",
      " 'Volvo Auto India' 'KIA Motors' 'Mercedes -Benz AG' 'Tata Motors'\n",
      " 'MG Motor' 'Mahindra & Mahindra' 'Hyundai Motor' 'HERO ELECTRIC'\n",
      " 'OKINAWA' 'AMPERE' 'ATHER' 'PURE EV' 'TVS' 'REVOLT' 'BAJAJ' 'BEING'\n",
      " 'JITENDRA' 'OTHERS' 'BGAUSS' 'BATTRE ELECTRIC' 'KINETIC GREEN']\n",
      "Number of Unique Maker in Data is 26\n"
     ]
    }
   ],
   "source": [
    "# check unique values in maker column\n",
    "print(f\"{sales_by_makers['maker'].unique()}\")\n",
    "print(f\"Number of Unique Maker in Data is {sales_by_makers['maker'].unique().shape[0]}\")"
   ]
  },
  {
   "cell_type": "code",
   "execution_count": 39,
   "metadata": {},
   "outputs": [
    {
     "data": {
      "text/plain": [
       "count      816.000000\n",
       "mean      2531.998775\n",
       "std       4771.077333\n",
       "min          0.000000\n",
       "25%         42.000000\n",
       "50%        662.000000\n",
       "75%       2636.500000\n",
       "max      44630.000000\n",
       "Name: electric_vehicles_sold, dtype: float64"
      ]
     },
     "execution_count": 39,
     "metadata": {},
     "output_type": "execute_result"
    }
   ],
   "source": [
    "# check numerical values in electric vehicles sold column\n",
    "sales_by_makers['electric_vehicles_sold'].describe()"
   ]
  },
  {
   "cell_type": "markdown",
   "metadata": {},
   "source": [
    "### Dim Date\n",
    "- date: The specific date for which the data is relevant. Format: DD-MMM-YY. (Data is recorded on a monthly basis)\n",
    "- fiscal_year: The fiscal year to which the date belongs. This is useful for financial and business analysis.\n",
    "- quarter: The fiscal quarter to which the date belongs. Fiscal quarters are typically divided as Q1, Q2, Q3, and Q4."
   ]
  },
  {
   "cell_type": "code",
   "execution_count": 41,
   "metadata": {},
   "outputs": [
    {
     "data": {
      "text/html": [
       "<div>\n",
       "<style scoped>\n",
       "    .dataframe tbody tr th:only-of-type {\n",
       "        vertical-align: middle;\n",
       "    }\n",
       "\n",
       "    .dataframe tbody tr th {\n",
       "        vertical-align: top;\n",
       "    }\n",
       "\n",
       "    .dataframe thead th {\n",
       "        text-align: right;\n",
       "    }\n",
       "</style>\n",
       "<table border=\"1\" class=\"dataframe\">\n",
       "  <thead>\n",
       "    <tr style=\"text-align: right;\">\n",
       "      <th></th>\n",
       "      <th>date</th>\n",
       "      <th>fiscal_year</th>\n",
       "      <th>quarter</th>\n",
       "    </tr>\n",
       "  </thead>\n",
       "  <tbody>\n",
       "    <tr>\n",
       "      <th>0</th>\n",
       "      <td>01-Apr-21</td>\n",
       "      <td>2022</td>\n",
       "      <td>Q1</td>\n",
       "    </tr>\n",
       "    <tr>\n",
       "      <th>1</th>\n",
       "      <td>01-May-21</td>\n",
       "      <td>2022</td>\n",
       "      <td>Q1</td>\n",
       "    </tr>\n",
       "    <tr>\n",
       "      <th>2</th>\n",
       "      <td>01-Jun-21</td>\n",
       "      <td>2022</td>\n",
       "      <td>Q1</td>\n",
       "    </tr>\n",
       "    <tr>\n",
       "      <th>3</th>\n",
       "      <td>01-Jul-21</td>\n",
       "      <td>2022</td>\n",
       "      <td>Q2</td>\n",
       "    </tr>\n",
       "    <tr>\n",
       "      <th>4</th>\n",
       "      <td>01-Aug-21</td>\n",
       "      <td>2022</td>\n",
       "      <td>Q2</td>\n",
       "    </tr>\n",
       "  </tbody>\n",
       "</table>\n",
       "</div>"
      ],
      "text/plain": [
       "        date  fiscal_year quarter\n",
       "0  01-Apr-21         2022      Q1\n",
       "1  01-May-21         2022      Q1\n",
       "2  01-Jun-21         2022      Q1\n",
       "3  01-Jul-21         2022      Q2\n",
       "4  01-Aug-21         2022      Q2"
      ]
     },
     "execution_count": 41,
     "metadata": {},
     "output_type": "execute_result"
    }
   ],
   "source": [
    "# top records\n",
    "dim_date.head()"
   ]
  },
  {
   "cell_type": "code",
   "execution_count": 42,
   "metadata": {},
   "outputs": [
    {
     "data": {
      "text/html": [
       "<div>\n",
       "<style scoped>\n",
       "    .dataframe tbody tr th:only-of-type {\n",
       "        vertical-align: middle;\n",
       "    }\n",
       "\n",
       "    .dataframe tbody tr th {\n",
       "        vertical-align: top;\n",
       "    }\n",
       "\n",
       "    .dataframe thead th {\n",
       "        text-align: right;\n",
       "    }\n",
       "</style>\n",
       "<table border=\"1\" class=\"dataframe\">\n",
       "  <thead>\n",
       "    <tr style=\"text-align: right;\">\n",
       "      <th></th>\n",
       "      <th>date</th>\n",
       "      <th>fiscal_year</th>\n",
       "      <th>quarter</th>\n",
       "    </tr>\n",
       "  </thead>\n",
       "  <tbody>\n",
       "    <tr>\n",
       "      <th>31</th>\n",
       "      <td>01-Nov-23</td>\n",
       "      <td>2024</td>\n",
       "      <td>Q3</td>\n",
       "    </tr>\n",
       "    <tr>\n",
       "      <th>32</th>\n",
       "      <td>01-Dec-23</td>\n",
       "      <td>2024</td>\n",
       "      <td>Q3</td>\n",
       "    </tr>\n",
       "    <tr>\n",
       "      <th>33</th>\n",
       "      <td>01-Jan-24</td>\n",
       "      <td>2024</td>\n",
       "      <td>Q4</td>\n",
       "    </tr>\n",
       "    <tr>\n",
       "      <th>34</th>\n",
       "      <td>01-Feb-24</td>\n",
       "      <td>2024</td>\n",
       "      <td>Q4</td>\n",
       "    </tr>\n",
       "    <tr>\n",
       "      <th>35</th>\n",
       "      <td>01-Mar-24</td>\n",
       "      <td>2024</td>\n",
       "      <td>Q4</td>\n",
       "    </tr>\n",
       "  </tbody>\n",
       "</table>\n",
       "</div>"
      ],
      "text/plain": [
       "         date  fiscal_year quarter\n",
       "31  01-Nov-23         2024      Q3\n",
       "32  01-Dec-23         2024      Q3\n",
       "33  01-Jan-24         2024      Q4\n",
       "34  01-Feb-24         2024      Q4\n",
       "35  01-Mar-24         2024      Q4"
      ]
     },
     "execution_count": 42,
     "metadata": {},
     "output_type": "execute_result"
    }
   ],
   "source": [
    "# last records\n",
    "dim_date.tail()"
   ]
  },
  {
   "cell_type": "code",
   "execution_count": 43,
   "metadata": {},
   "outputs": [
    {
     "name": "stdout",
     "output_type": "stream",
     "text": [
      "<class 'pandas.core.frame.DataFrame'>\n",
      "RangeIndex: 36 entries, 0 to 35\n",
      "Data columns (total 3 columns):\n",
      " #   Column       Non-Null Count  Dtype \n",
      "---  ------       --------------  ----- \n",
      " 0   date         36 non-null     object\n",
      " 1   fiscal_year  36 non-null     int64 \n",
      " 2   quarter      36 non-null     object\n",
      "dtypes: int64(1), object(2)\n",
      "memory usage: 996.0+ bytes\n"
     ]
    }
   ],
   "source": [
    "# check the data type of all columns and non values present in each\n",
    "dim_date.info()"
   ]
  },
  {
   "cell_type": "code",
   "execution_count": 51,
   "metadata": {},
   "outputs": [
    {
     "data": {
      "text/html": [
       "<div>\n",
       "<style scoped>\n",
       "    .dataframe tbody tr th:only-of-type {\n",
       "        vertical-align: middle;\n",
       "    }\n",
       "\n",
       "    .dataframe tbody tr th {\n",
       "        vertical-align: top;\n",
       "    }\n",
       "\n",
       "    .dataframe thead th {\n",
       "        text-align: right;\n",
       "    }\n",
       "</style>\n",
       "<table border=\"1\" class=\"dataframe\">\n",
       "  <thead>\n",
       "    <tr style=\"text-align: right;\">\n",
       "      <th></th>\n",
       "      <th>date</th>\n",
       "      <th>fiscal_year</th>\n",
       "      <th>quarter</th>\n",
       "    </tr>\n",
       "  </thead>\n",
       "  <tbody>\n",
       "  </tbody>\n",
       "</table>\n",
       "</div>"
      ],
      "text/plain": [
       "Empty DataFrame\n",
       "Columns: [date, fiscal_year, quarter]\n",
       "Index: []"
      ]
     },
     "execution_count": 51,
     "metadata": {},
     "output_type": "execute_result"
    }
   ],
   "source": [
    "# duplicated check\n",
    "dim_date[dim_date.duplicated()]"
   ]
  },
  {
   "cell_type": "code",
   "execution_count": 53,
   "metadata": {},
   "outputs": [
    {
     "data": {
      "text/plain": [
       "date           36\n",
       "fiscal_year     3\n",
       "quarter         4\n",
       "dtype: int64"
      ]
     },
     "execution_count": 53,
     "metadata": {},
     "output_type": "execute_result"
    }
   ],
   "source": [
    "# number of unique value in each column\n",
    "dim_date.nunique()"
   ]
  },
  {
   "cell_type": "code",
   "execution_count": 56,
   "metadata": {},
   "outputs": [
    {
     "name": "stdout",
     "output_type": "stream",
     "text": [
      "The latest Date is 2021-04-01 00:00:00\n",
      "The last Date is 2024-03-01 00:00:00\n"
     ]
    }
   ],
   "source": [
    "# convert data types of date column to datetimes\n",
    "dim_date['date'] = pd.to_datetime(dim_date['date'])\n",
    "# check the latest date\n",
    "print(f\"The latest Date is {dim_date['date'].min()}\")\n",
    "# check the last date\n",
    "print(f\"The last Date is {dim_date['date'].max()}\")"
   ]
  },
  {
   "cell_type": "code",
   "execution_count": 54,
   "metadata": {},
   "outputs": [
    {
     "name": "stdout",
     "output_type": "stream",
     "text": [
      "[2022 2023 2024]\n",
      "Number of Unique Fiscal Year in Data is 3\n"
     ]
    }
   ],
   "source": [
    "# check unique values in fiscal year column\n",
    "print(f\"{dim_date['fiscal_year'].unique()}\")\n",
    "print(f\"Number of Unique Fiscal Year in Data is {dim_date['fiscal_year'].unique().shape[0]}\")"
   ]
  },
  {
   "cell_type": "code",
   "execution_count": 55,
   "metadata": {},
   "outputs": [
    {
     "name": "stdout",
     "output_type": "stream",
     "text": [
      "['Q1' 'Q2' 'Q3' 'Q4']\n",
      "Number of Unique Quarter in Data is 4\n"
     ]
    }
   ],
   "source": [
    "# check unique values in quarter column\n",
    "print(f\"{dim_date['quarter'].unique()}\")\n",
    "print(f\"Number of Unique Quarter in Data is {dim_date['quarter'].unique().shape[0]}\")"
   ]
  },
  {
   "cell_type": "markdown",
   "metadata": {},
   "source": [
    "## Data Pre-Processing"
   ]
  },
  {
   "cell_type": "markdown",
   "metadata": {},
   "source": [
    "### Outlier Processing\n",
    "\n",
    "Next we'll take a look at any outliers we may need to treat."
   ]
  },
  {
   "cell_type": "markdown",
   "metadata": {},
   "source": [
    "#### Create functions for calculating outliers"
   ]
  },
  {
   "cell_type": "code",
   "execution_count": 57,
   "metadata": {},
   "outputs": [],
   "source": [
    "# functions for calculating outliers\n",
    "def check_outlier(df, column):\n",
    "    \"\"\"_summary_\n",
    "\n",
    "    Args:\n",
    "        df (_type_): _description_\n",
    "        column (_type_): _description_\n",
    "    \"\"\"\n",
    "    # calculate percentage values:\n",
    "    Q1 = df[column].quantile(0.25)\n",
    "    Q2 = df[column].quantile(0.5)\n",
    "    Q3 = df[column].quantile(0.75)\n",
    "    # calculate the inter quartile range (IQR)\n",
    "    IQR = Q3 - Q1\n",
    "    # define lower, median, and upper thresholds to identify outliers \n",
    "    lower = Q1 - 1.5 * IQR # the lower threshold, calculated as Q1 minus 1.5 times IQR\n",
    "    median = Q2 \n",
    "    upper = Q3 + 1.5 * IQR # the upper threshold, calculated as Q3 plus 1.5 times IQR\n",
    "    # calculate the percentage of outliers\n",
    "    # The total number of values greater than upper or less than lower is divided by the total number of values in the column\n",
    "    # Then multiplied by 100 to get the percentage.\n",
    "    percent_outliers = round(((df[df[column] > upper].shape[0]) + (df[df[column] < lower].shape[0])) / df.shape[0] * 100, 2)\n",
    "# Create a DataFrame containing statistical indices\n",
    "    result = pd.DataFrame({\n",
    "        'lower_bound': [lower],\n",
    "        'median': [median],\n",
    "        'upper_bound': [upper],\n",
    "        'percent_outliers': [percent_outliers]\n",
    "    })\n",
    "    # returns calculated values\n",
    "    return result"
   ]
  },
  {
   "cell_type": "markdown",
   "metadata": {},
   "source": [
    "#### Check outlier of sold quantity column in sales_by_states DataFrame"
   ]
  },
  {
   "cell_type": "code",
   "execution_count": 63,
   "metadata": {},
   "outputs": [
    {
     "data": {
      "image/png": "[encoded data removed]",
      "text/plain": [
       "<Figure size 1600x600 with 2 Axes>"
      ]
     },
     "metadata": {},
     "output_type": "display_data"
    },
    {
     "name": "stdout",
     "output_type": "stream",
     "text": [
      "The Skew of Sold Quantity Data is: 4.71\n"
     ]
    }
   ],
   "source": [
    "# overview of outliers\n",
    "# set the size of chart\n",
    "plt.figure(figsize=(16,6))\n",
    "# first subplot by box plot\n",
    "plt.subplot(1,2,1)\n",
    "plt.grid()\n",
    "sns.boxplot(data=sales_by_states, x='electric_vehicles_sold', color='#DC5F00')\n",
    "plt.title(\"Distribution by BoxPlot\")\n",
    "# second subplot by hist plot\n",
    "plt.subplot(1,2,2)\n",
    "plt.grid()\n",
    "sns.histplot(data=sales_by_states, x='electric_vehicles_sold', color='#DC5F00')\n",
    "plt.title(\"Distribution by HistPlot\")\n",
    "# plot the chart\n",
    "plt.show()\n",
    "# Check the skewness of data in the \"sold_quantity\" column\n",
    "print(f\"The Skew of Sold Quantity Data is: {round(sales_by_states['electric_vehicles_sold'].skew(), 2)}\")"
   ]
  },
  {
   "cell_type": "markdown",
   "metadata": {},
   "source": [
    "##### Electric Vehicles Sold Outliers Data"
   ]
  },
  {
   "cell_type": "code",
   "execution_count": 66,
   "metadata": {},
   "outputs": [
    {
     "name": "stdout",
     "output_type": "stream",
     "text": [
      "lower bound is -796.0\n",
      "median is 54.0\n",
      "upper bound is 1332.0\n",
      "percentage of electric vehicles sold that are outliers is 14.72%\n"
     ]
    }
   ],
   "source": [
    "# check the outliers, find out the upper bound, lower bound of the electric vehicles sold column\n",
    "bound_electric_sold = check_outlier(sales_by_states, 'electric_vehicles_sold')\n",
    "# print out the required information\n",
    "print(f\"lower bound is {bound_electric_sold['lower_bound'].values[0]}\")\n",
    "print(f\"median is {bound_electric_sold['median'].values[0]}\")\n",
    "print(f\"upper bound is {bound_electric_sold['upper_bound'].values[0]}\")\n",
    "print(f\"percentage of electric vehicles sold that are outliers is {bound_electric_sold['percent_outliers'].values[0]}%\")"
   ]
  },
  {
   "cell_type": "markdown",
   "metadata": {},
   "source": [
    "The data in the electric vehicles sold column has a lower bound of -796, and an upper bound of 1332.\n",
    "\n",
    "Based on the data distribution in the previous electric vehicles sold column we learned about, the data is skewed to the right. Therefore, we will only focus on further exploration of the upper bound\n",
    "\n",
    "Let's move on"
   ]
  },
  {
   "cell_type": "code",
   "execution_count": 67,
   "metadata": {},
   "outputs": [
    {
     "name": "stdout",
     "output_type": "stream",
     "text": [
      "The total number of outliers is 360\n"
     ]
    }
   ],
   "source": [
    "# Filter rows with electric vehicles sold quantity greater than upper bound of electric vehicles sold\n",
    "outliers_electric_sold = sales_by_states[sales_by_states['electric_vehicles_sold']>bound_electric_sold['upper_bound'].values[0]]\n",
    "# check how many rows are outliers\n",
    "print(f\"The total number of outliers is {outliers_electric_sold.shape[0]}\")"
   ]
  },
  {
   "cell_type": "markdown",
   "metadata": {},
   "source": []
  },
  {
   "cell_type": "code",
   "execution_count": 68,
   "metadata": {},
   "outputs": [
    {
     "data": {
      "text/plain": [
       "(2445, 6)"
      ]
     },
     "execution_count": 68,
     "metadata": {},
     "output_type": "execute_result"
    }
   ],
   "source": [
    "sales_by_states.shape"
   ]
  },
  {
   "cell_type": "markdown",
   "metadata": {},
   "source": []
  }
 ],
 "metadata": {
  "kernelspec": {
   "display_name": "Python 3",
   "language": "python",
   "name": "python3"
  },
  "language_info": {
   "codemirror_mode": {
    "name": "ipython",
    "version": 3
   },
   "file_extension": ".py",
   "mimetype": "text/x-python",
   "name": "python",
   "nbconvert_exporter": "python",
   "pygments_lexer": "ipython3",
   "version": "3.11.4"
  }
 },
 "nbformat": 4,
 "nbformat_minor": 2
}

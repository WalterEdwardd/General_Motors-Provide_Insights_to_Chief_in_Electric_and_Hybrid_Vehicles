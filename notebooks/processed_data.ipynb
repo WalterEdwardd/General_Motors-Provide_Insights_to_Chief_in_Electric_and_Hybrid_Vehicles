{
 "cells": [
  {
   "cell_type": "markdown",
   "metadata": {},
   "source": [
    "# Preparing"
   ]
  },
  {
   "cell_type": "markdown",
   "metadata": {},
   "source": [
    "## Importing Required Libraries"
   ]
  },
  {
   "cell_type": "code",
   "execution_count": 90,
   "metadata": {},
   "outputs": [],
   "source": [
    "# import library used for data processing\n",
    "import pandas as pd\n",
    "pd.set_option('display.max_columns', None) # to remove the limit of columns shows as output\n",
    "import numpy as np\n",
    "import datetime as dt\n",
    "import copy\n",
    "from IPython.display import display\n",
    "\n",
    "# import library for visualization\n",
    "import seaborn as sns\n",
    "import matplotlib.pyplot as plt\n",
    "%matplotlib inline"
   ]
  },
  {
   "cell_type": "markdown",
   "metadata": {},
   "source": [
    "## Importing Data"
   ]
  },
  {
   "cell_type": "code",
   "execution_count": 91,
   "metadata": {},
   "outputs": [],
   "source": [
    "# sales by state\n",
    "sales_by_states = pd.read_csv(\"C:/Users/PC/Downloads/General_Motors-Provide_Insights_to_Chief_in_Electric_and_Hybrid_Vehicles/data/raw_data/electric_vehicle_sales_by_state.csv\")\n",
    "# sales by maker\n",
    "sales_by_makers = pd.read_csv(\"C:/Users/PC/Downloads/General_Motors-Provide_Insights_to_Chief_in_Electric_and_Hybrid_Vehicles/data/raw_data/electric_vehicle_sales_by_makers.csv\")\n",
    "# dim_date\n",
    "dim_date = pd.read_csv(\"C:/Users/PC/Downloads/General_Motors-Provide_Insights_to_Chief_in_Electric_and_Hybrid_Vehicles/data/raw_data/dim_date.csv\")"
   ]
  },
  {
   "cell_type": "markdown",
   "metadata": {},
   "source": [
    "## Data Understanding"
   ]
  },
  {
   "cell_type": "markdown",
   "metadata": {},
   "source": [
    "### Electric Vehicle Sales by State\n",
    "- date: The date on which the data was recorded. Format: DD-MMM-YY. (Data is recorded on a monthly basis)\n",
    "- state: The name of the state where the sales data is recorded. This indicates the geographical location within India.\n",
    "- vehicle_category: The category of the vehicle, specifying whether it is a 2-Wheeler or a 4-Wheeler.\n",
    "- electric_vehicles_sold: The number of electric vehicles sold in the specified state and category on the given date.\n",
    "- total_vehicles_sold: The total number of vehicles (including both electric and non-electric) sold in the specified state and category on the given date."
   ]
  },
  {
   "cell_type": "code",
   "execution_count": 92,
   "metadata": {},
   "outputs": [
    {
     "data": {
      "text/html": [
       "<div>\n",
       "<style scoped>\n",
       "    .dataframe tbody tr th:only-of-type {\n",
       "        vertical-align: middle;\n",
       "    }\n",
       "\n",
       "    .dataframe tbody tr th {\n",
       "        vertical-align: top;\n",
       "    }\n",
       "\n",
       "    .dataframe thead th {\n",
       "        text-align: right;\n",
       "    }\n",
       "</style>\n",
       "<table border=\"1\" class=\"dataframe\">\n",
       "  <thead>\n",
       "    <tr style=\"text-align: right;\">\n",
       "      <th></th>\n",
       "      <th>date</th>\n",
       "      <th>state</th>\n",
       "      <th>vehicle_category</th>\n",
       "      <th>electric_vehicles_sold</th>\n",
       "      <th>total_vehicles_sold</th>\n",
       "    </tr>\n",
       "  </thead>\n",
       "  <tbody>\n",
       "    <tr>\n",
       "      <th>0</th>\n",
       "      <td>01-Apr-21</td>\n",
       "      <td>Sikkim</td>\n",
       "      <td>2-Wheelers</td>\n",
       "      <td>0</td>\n",
       "      <td>398</td>\n",
       "    </tr>\n",
       "    <tr>\n",
       "      <th>1</th>\n",
       "      <td>01-Apr-21</td>\n",
       "      <td>Sikkim</td>\n",
       "      <td>4-Wheelers</td>\n",
       "      <td>0</td>\n",
       "      <td>361</td>\n",
       "    </tr>\n",
       "    <tr>\n",
       "      <th>2</th>\n",
       "      <td>01-May-21</td>\n",
       "      <td>Sikkim</td>\n",
       "      <td>2-Wheelers</td>\n",
       "      <td>0</td>\n",
       "      <td>113</td>\n",
       "    </tr>\n",
       "    <tr>\n",
       "      <th>3</th>\n",
       "      <td>01-May-21</td>\n",
       "      <td>Sikkim</td>\n",
       "      <td>4-Wheelers</td>\n",
       "      <td>0</td>\n",
       "      <td>98</td>\n",
       "    </tr>\n",
       "    <tr>\n",
       "      <th>4</th>\n",
       "      <td>01-Jun-21</td>\n",
       "      <td>Sikkim</td>\n",
       "      <td>2-Wheelers</td>\n",
       "      <td>0</td>\n",
       "      <td>229</td>\n",
       "    </tr>\n",
       "  </tbody>\n",
       "</table>\n",
       "</div>"
      ],
      "text/plain": [
       "        date   state vehicle_category  electric_vehicles_sold  \\\n",
       "0  01-Apr-21  Sikkim       2-Wheelers                       0   \n",
       "1  01-Apr-21  Sikkim       4-Wheelers                       0   \n",
       "2  01-May-21  Sikkim       2-Wheelers                       0   \n",
       "3  01-May-21  Sikkim       4-Wheelers                       0   \n",
       "4  01-Jun-21  Sikkim       2-Wheelers                       0   \n",
       "\n",
       "   total_vehicles_sold  \n",
       "0                  398  \n",
       "1                  361  \n",
       "2                  113  \n",
       "3                   98  \n",
       "4                  229  "
      ]
     },
     "execution_count": 92,
     "metadata": {},
     "output_type": "execute_result"
    }
   ],
   "source": [
    "# top records\n",
    "sales_by_states.head()"
   ]
  },
  {
   "cell_type": "code",
   "execution_count": 93,
   "metadata": {},
   "outputs": [
    {
     "data": {
      "text/html": [
       "<div>\n",
       "<style scoped>\n",
       "    .dataframe tbody tr th:only-of-type {\n",
       "        vertical-align: middle;\n",
       "    }\n",
       "\n",
       "    .dataframe tbody tr th {\n",
       "        vertical-align: top;\n",
       "    }\n",
       "\n",
       "    .dataframe thead th {\n",
       "        text-align: right;\n",
       "    }\n",
       "</style>\n",
       "<table border=\"1\" class=\"dataframe\">\n",
       "  <thead>\n",
       "    <tr style=\"text-align: right;\">\n",
       "      <th></th>\n",
       "      <th>date</th>\n",
       "      <th>state</th>\n",
       "      <th>vehicle_category</th>\n",
       "      <th>electric_vehicles_sold</th>\n",
       "      <th>total_vehicles_sold</th>\n",
       "    </tr>\n",
       "  </thead>\n",
       "  <tbody>\n",
       "    <tr>\n",
       "      <th>2440</th>\n",
       "      <td>01-Mar-24</td>\n",
       "      <td>Mizoram</td>\n",
       "      <td>2-Wheelers</td>\n",
       "      <td>58</td>\n",
       "      <td>1932</td>\n",
       "    </tr>\n",
       "    <tr>\n",
       "      <th>2441</th>\n",
       "      <td>01-Mar-24</td>\n",
       "      <td>DNH and DD</td>\n",
       "      <td>2-Wheelers</td>\n",
       "      <td>25</td>\n",
       "      <td>780</td>\n",
       "    </tr>\n",
       "    <tr>\n",
       "      <th>2442</th>\n",
       "      <td>01-Mar-24</td>\n",
       "      <td>Manipur</td>\n",
       "      <td>2-Wheelers</td>\n",
       "      <td>13</td>\n",
       "      <td>1394</td>\n",
       "    </tr>\n",
       "    <tr>\n",
       "      <th>2443</th>\n",
       "      <td>01-Mar-24</td>\n",
       "      <td>Andaman &amp; Nicobar Island</td>\n",
       "      <td>2-Wheelers</td>\n",
       "      <td>2</td>\n",
       "      <td>447</td>\n",
       "    </tr>\n",
       "    <tr>\n",
       "      <th>2444</th>\n",
       "      <td>01-Mar-24</td>\n",
       "      <td>Nagaland</td>\n",
       "      <td>2-Wheelers</td>\n",
       "      <td>2</td>\n",
       "      <td>1180</td>\n",
       "    </tr>\n",
       "  </tbody>\n",
       "</table>\n",
       "</div>"
      ],
      "text/plain": [
       "           date                     state vehicle_category  \\\n",
       "2440  01-Mar-24                   Mizoram       2-Wheelers   \n",
       "2441  01-Mar-24                DNH and DD       2-Wheelers   \n",
       "2442  01-Mar-24                   Manipur       2-Wheelers   \n",
       "2443  01-Mar-24  Andaman & Nicobar Island       2-Wheelers   \n",
       "2444  01-Mar-24                  Nagaland       2-Wheelers   \n",
       "\n",
       "      electric_vehicles_sold  total_vehicles_sold  \n",
       "2440                      58                 1932  \n",
       "2441                      25                  780  \n",
       "2442                      13                 1394  \n",
       "2443                       2                  447  \n",
       "2444                       2                 1180  "
      ]
     },
     "execution_count": 93,
     "metadata": {},
     "output_type": "execute_result"
    }
   ],
   "source": [
    "# last record\n",
    "sales_by_states.tail()"
   ]
  },
  {
   "cell_type": "code",
   "execution_count": 94,
   "metadata": {},
   "outputs": [],
   "source": [
    "# create a new column that contain non electric vehicles sold values\n",
    "sales_by_states['non_electric_vehicles_sold'] = sales_by_states['total_vehicles_sold'] - sales_by_states['electric_vehicles_sold']"
   ]
  },
  {
   "cell_type": "code",
   "execution_count": 95,
   "metadata": {},
   "outputs": [
    {
     "name": "stdout",
     "output_type": "stream",
     "text": [
      "Shape of the Sales by State Data :(2445, 6)\n"
     ]
    }
   ],
   "source": [
    "# check data shape\n",
    "print(f\"Shape of the Sales by State Data :{sales_by_states.shape}\")"
   ]
  },
  {
   "cell_type": "code",
   "execution_count": 96,
   "metadata": {},
   "outputs": [
    {
     "name": "stdout",
     "output_type": "stream",
     "text": [
      "<class 'pandas.core.frame.DataFrame'>\n",
      "RangeIndex: 2445 entries, 0 to 2444\n",
      "Data columns (total 6 columns):\n",
      " #   Column                      Non-Null Count  Dtype \n",
      "---  ------                      --------------  ----- \n",
      " 0   date                        2445 non-null   object\n",
      " 1   state                       2445 non-null   object\n",
      " 2   vehicle_category            2445 non-null   object\n",
      " 3   electric_vehicles_sold      2445 non-null   int64 \n",
      " 4   total_vehicles_sold         2445 non-null   int64 \n",
      " 5   non_electric_vehicles_sold  2445 non-null   int64 \n",
      "dtypes: int64(3), object(3)\n",
      "memory usage: 114.7+ KB\n"
     ]
    }
   ],
   "source": [
    "# check the data type of all columns and non values present in each\n",
    "sales_by_states.info()"
   ]
  },
  {
   "cell_type": "code",
   "execution_count": 97,
   "metadata": {},
   "outputs": [
    {
     "data": {
      "text/html": [
       "<div>\n",
       "<style scoped>\n",
       "    .dataframe tbody tr th:only-of-type {\n",
       "        vertical-align: middle;\n",
       "    }\n",
       "\n",
       "    .dataframe tbody tr th {\n",
       "        vertical-align: top;\n",
       "    }\n",
       "\n",
       "    .dataframe thead th {\n",
       "        text-align: right;\n",
       "    }\n",
       "</style>\n",
       "<table border=\"1\" class=\"dataframe\">\n",
       "  <thead>\n",
       "    <tr style=\"text-align: right;\">\n",
       "      <th></th>\n",
       "      <th>date</th>\n",
       "      <th>state</th>\n",
       "      <th>vehicle_category</th>\n",
       "      <th>electric_vehicles_sold</th>\n",
       "      <th>total_vehicles_sold</th>\n",
       "      <th>non_electric_vehicles_sold</th>\n",
       "    </tr>\n",
       "  </thead>\n",
       "  <tbody>\n",
       "  </tbody>\n",
       "</table>\n",
       "</div>"
      ],
      "text/plain": [
       "Empty DataFrame\n",
       "Columns: [date, state, vehicle_category, electric_vehicles_sold, total_vehicles_sold, non_electric_vehicles_sold]\n",
       "Index: []"
      ]
     },
     "execution_count": 97,
     "metadata": {},
     "output_type": "execute_result"
    }
   ],
   "source": [
    "# duplicate check\n",
    "sales_by_states[sales_by_states.duplicated()]"
   ]
  },
  {
   "cell_type": "code",
   "execution_count": 98,
   "metadata": {},
   "outputs": [
    {
     "data": {
      "text/plain": [
       "date                            36\n",
       "state                           35\n",
       "vehicle_category                 2\n",
       "electric_vehicles_sold         921\n",
       "total_vehicles_sold           2225\n",
       "non_electric_vehicles_sold    2240\n",
       "dtype: int64"
      ]
     },
     "execution_count": 98,
     "metadata": {},
     "output_type": "execute_result"
    }
   ],
   "source": [
    "# number of unique value in each column\n",
    "sales_by_states.nunique()"
   ]
  },
  {
   "cell_type": "code",
   "execution_count": 99,
   "metadata": {},
   "outputs": [
    {
     "name": "stdout",
     "output_type": "stream",
     "text": [
      "['Sikkim' 'Andaman & Nicobar Island' 'Arunachal Pradesh' 'Assam'\n",
      " 'Chhattisgarh' 'DNH and DD' 'Jammu and Kashmir' 'Ladakh' 'Manipur'\n",
      " 'Meghalaya' 'Mizoram' 'Nagaland' 'Puducherry' 'Tripura' 'Bihar'\n",
      " 'Chandigarh' 'Delhi' 'Madhya Pradesh' 'Odisha' 'Punjab' 'Uttarakhand'\n",
      " 'Himachal Pradesh' 'Andaman & Nicobar' 'Haryana' 'Jharkhand'\n",
      " 'Andhra Pradesh' 'Goa' 'Gujarat' 'Karnataka' 'Kerala' 'Maharashtra'\n",
      " 'Rajasthan' 'Tamil Nadu' 'Uttar Pradesh' 'West Bengal']\n",
      "Number of Unique State in Data is 35\n"
     ]
    }
   ],
   "source": [
    "# check unique values in state column\n",
    "print(f\"{sales_by_states['state'].unique()}\")\n",
    "print(f\"Number of Unique State in Data is {sales_by_states['state'].unique().shape[0]}\")"
   ]
  },
  {
   "cell_type": "code",
   "execution_count": 100,
   "metadata": {},
   "outputs": [
    {
     "name": "stdout",
     "output_type": "stream",
     "text": [
      "['2-Wheelers' '4-Wheelers']\n",
      "Number of Unique Vehicle Category in Data is 2\n"
     ]
    }
   ],
   "source": [
    "# check unique values in vehicle category column\n",
    "print(f\"{sales_by_states['vehicle_category'].unique()}\")\n",
    "print(f\"Number of Unique Vehicle Category in Data is {sales_by_states['vehicle_category'].unique().shape[0]}\")"
   ]
  },
  {
   "cell_type": "code",
   "execution_count": 101,
   "metadata": {},
   "outputs": [
    {
     "data": {
      "text/plain": [
       "count     2445.000000\n",
       "mean       845.035174\n",
       "std       2185.167744\n",
       "min          0.000000\n",
       "25%          2.000000\n",
       "50%         54.000000\n",
       "75%        534.000000\n",
       "max      26668.000000\n",
       "Name: electric_vehicles_sold, dtype: float64"
      ]
     },
     "execution_count": 101,
     "metadata": {},
     "output_type": "execute_result"
    }
   ],
   "source": [
    "# check numerical values in electric vehicle sold column\n",
    "sales_by_states['electric_vehicles_sold'].describe()"
   ]
  },
  {
   "cell_type": "code",
   "execution_count": 102,
   "metadata": {},
   "outputs": [
    {
     "data": {
      "text/plain": [
       "count      2445.000000\n",
       "mean      23402.966053\n",
       "std       38353.266389\n",
       "min           1.000000\n",
       "25%        1158.000000\n",
       "50%        6098.000000\n",
       "75%       29396.000000\n",
       "max      387983.000000\n",
       "Name: total_vehicles_sold, dtype: float64"
      ]
     },
     "execution_count": 102,
     "metadata": {},
     "output_type": "execute_result"
    }
   ],
   "source": [
    "# check numerical values in total vehicles sold column\n",
    "sales_by_states['total_vehicles_sold'].describe()"
   ]
  },
  {
   "cell_type": "markdown",
   "metadata": {},
   "source": [
    "### Electric Vehicle Sales by Makers\n",
    "- date: The date on which the sales data was recorded. Format: DD-MMM-YY. (Data is recorded on a monthly basis)\n",
    "- vehicle_category: The category of the vehicle, specifying whether it is a 2-Wheeler or a 4-Wheeler.\n",
    "- maker: The name of the manufacturer or brand of the electric vehicle.\n",
    "- electric_vehicles_sold: The number of electric vehicles sold by the specified maker in the given category on the given date."
   ]
  },
  {
   "cell_type": "code",
   "execution_count": 103,
   "metadata": {},
   "outputs": [
    {
     "data": {
      "text/html": [
       "<div>\n",
       "<style scoped>\n",
       "    .dataframe tbody tr th:only-of-type {\n",
       "        vertical-align: middle;\n",
       "    }\n",
       "\n",
       "    .dataframe tbody tr th {\n",
       "        vertical-align: top;\n",
       "    }\n",
       "\n",
       "    .dataframe thead th {\n",
       "        text-align: right;\n",
       "    }\n",
       "</style>\n",
       "<table border=\"1\" class=\"dataframe\">\n",
       "  <thead>\n",
       "    <tr style=\"text-align: right;\">\n",
       "      <th></th>\n",
       "      <th>date</th>\n",
       "      <th>vehicle_category</th>\n",
       "      <th>maker</th>\n",
       "      <th>electric_vehicles_sold</th>\n",
       "    </tr>\n",
       "  </thead>\n",
       "  <tbody>\n",
       "    <tr>\n",
       "      <th>0</th>\n",
       "      <td>01-Apr-21</td>\n",
       "      <td>2-Wheelers</td>\n",
       "      <td>OLA ELECTRIC</td>\n",
       "      <td>0</td>\n",
       "    </tr>\n",
       "    <tr>\n",
       "      <th>1</th>\n",
       "      <td>01-Apr-22</td>\n",
       "      <td>2-Wheelers</td>\n",
       "      <td>OKAYA EV</td>\n",
       "      <td>0</td>\n",
       "    </tr>\n",
       "    <tr>\n",
       "      <th>2</th>\n",
       "      <td>01-May-21</td>\n",
       "      <td>2-Wheelers</td>\n",
       "      <td>OLA ELECTRIC</td>\n",
       "      <td>0</td>\n",
       "    </tr>\n",
       "    <tr>\n",
       "      <th>3</th>\n",
       "      <td>01-Jun-21</td>\n",
       "      <td>2-Wheelers</td>\n",
       "      <td>OLA ELECTRIC</td>\n",
       "      <td>0</td>\n",
       "    </tr>\n",
       "    <tr>\n",
       "      <th>4</th>\n",
       "      <td>01-Jul-21</td>\n",
       "      <td>2-Wheelers</td>\n",
       "      <td>OLA ELECTRIC</td>\n",
       "      <td>0</td>\n",
       "    </tr>\n",
       "  </tbody>\n",
       "</table>\n",
       "</div>"
      ],
      "text/plain": [
       "        date vehicle_category         maker  electric_vehicles_sold\n",
       "0  01-Apr-21       2-Wheelers  OLA ELECTRIC                       0\n",
       "1  01-Apr-22       2-Wheelers      OKAYA EV                       0\n",
       "2  01-May-21       2-Wheelers  OLA ELECTRIC                       0\n",
       "3  01-Jun-21       2-Wheelers  OLA ELECTRIC                       0\n",
       "4  01-Jul-21       2-Wheelers  OLA ELECTRIC                       0"
      ]
     },
     "execution_count": 103,
     "metadata": {},
     "output_type": "execute_result"
    }
   ],
   "source": [
    "# top records\n",
    "sales_by_makers.head()"
   ]
  },
  {
   "cell_type": "code",
   "execution_count": 104,
   "metadata": {},
   "outputs": [
    {
     "data": {
      "text/html": [
       "<div>\n",
       "<style scoped>\n",
       "    .dataframe tbody tr th:only-of-type {\n",
       "        vertical-align: middle;\n",
       "    }\n",
       "\n",
       "    .dataframe tbody tr th {\n",
       "        vertical-align: top;\n",
       "    }\n",
       "\n",
       "    .dataframe thead th {\n",
       "        text-align: right;\n",
       "    }\n",
       "</style>\n",
       "<table border=\"1\" class=\"dataframe\">\n",
       "  <thead>\n",
       "    <tr style=\"text-align: right;\">\n",
       "      <th></th>\n",
       "      <th>date</th>\n",
       "      <th>vehicle_category</th>\n",
       "      <th>maker</th>\n",
       "      <th>electric_vehicles_sold</th>\n",
       "    </tr>\n",
       "  </thead>\n",
       "  <tbody>\n",
       "    <tr>\n",
       "      <th>811</th>\n",
       "      <td>01-Mar-24</td>\n",
       "      <td>2-Wheelers</td>\n",
       "      <td>BGAUSS</td>\n",
       "      <td>3070</td>\n",
       "    </tr>\n",
       "    <tr>\n",
       "      <th>812</th>\n",
       "      <td>01-Mar-24</td>\n",
       "      <td>2-Wheelers</td>\n",
       "      <td>BATTRE ELECTRIC</td>\n",
       "      <td>625</td>\n",
       "    </tr>\n",
       "    <tr>\n",
       "      <th>813</th>\n",
       "      <td>01-Mar-24</td>\n",
       "      <td>2-Wheelers</td>\n",
       "      <td>KINETIC GREEN</td>\n",
       "      <td>3915</td>\n",
       "    </tr>\n",
       "    <tr>\n",
       "      <th>814</th>\n",
       "      <td>01-Mar-24</td>\n",
       "      <td>2-Wheelers</td>\n",
       "      <td>REVOLT</td>\n",
       "      <td>585</td>\n",
       "    </tr>\n",
       "    <tr>\n",
       "      <th>815</th>\n",
       "      <td>01-Mar-24</td>\n",
       "      <td>2-Wheelers</td>\n",
       "      <td>OTHERS</td>\n",
       "      <td>10579</td>\n",
       "    </tr>\n",
       "  </tbody>\n",
       "</table>\n",
       "</div>"
      ],
      "text/plain": [
       "          date vehicle_category            maker  electric_vehicles_sold\n",
       "811  01-Mar-24       2-Wheelers           BGAUSS                    3070\n",
       "812  01-Mar-24       2-Wheelers  BATTRE ELECTRIC                     625\n",
       "813  01-Mar-24       2-Wheelers    KINETIC GREEN                    3915\n",
       "814  01-Mar-24       2-Wheelers           REVOLT                     585\n",
       "815  01-Mar-24       2-Wheelers           OTHERS                   10579"
      ]
     },
     "execution_count": 104,
     "metadata": {},
     "output_type": "execute_result"
    }
   ],
   "source": [
    "# last records\n",
    "sales_by_makers.tail()"
   ]
  },
  {
   "cell_type": "code",
   "execution_count": 105,
   "metadata": {},
   "outputs": [
    {
     "name": "stdout",
     "output_type": "stream",
     "text": [
      "Shape of the Sales by Maker Data : (816, 4)\n"
     ]
    }
   ],
   "source": [
    "# check data shape\n",
    "print(f\"Shape of the Sales by Maker Data : {sales_by_makers.shape}\")"
   ]
  },
  {
   "cell_type": "code",
   "execution_count": 106,
   "metadata": {},
   "outputs": [
    {
     "name": "stdout",
     "output_type": "stream",
     "text": [
      "<class 'pandas.core.frame.DataFrame'>\n",
      "RangeIndex: 816 entries, 0 to 815\n",
      "Data columns (total 4 columns):\n",
      " #   Column                  Non-Null Count  Dtype \n",
      "---  ------                  --------------  ----- \n",
      " 0   date                    816 non-null    object\n",
      " 1   vehicle_category        816 non-null    object\n",
      " 2   maker                   816 non-null    object\n",
      " 3   electric_vehicles_sold  816 non-null    int64 \n",
      "dtypes: int64(1), object(3)\n",
      "memory usage: 25.6+ KB\n"
     ]
    }
   ],
   "source": [
    "# check the data type of all columns and non values present in each\n",
    "sales_by_makers.info()"
   ]
  },
  {
   "cell_type": "code",
   "execution_count": 107,
   "metadata": {},
   "outputs": [
    {
     "data": {
      "text/html": [
       "<div>\n",
       "<style scoped>\n",
       "    .dataframe tbody tr th:only-of-type {\n",
       "        vertical-align: middle;\n",
       "    }\n",
       "\n",
       "    .dataframe tbody tr th {\n",
       "        vertical-align: top;\n",
       "    }\n",
       "\n",
       "    .dataframe thead th {\n",
       "        text-align: right;\n",
       "    }\n",
       "</style>\n",
       "<table border=\"1\" class=\"dataframe\">\n",
       "  <thead>\n",
       "    <tr style=\"text-align: right;\">\n",
       "      <th></th>\n",
       "      <th>date</th>\n",
       "      <th>vehicle_category</th>\n",
       "      <th>maker</th>\n",
       "      <th>electric_vehicles_sold</th>\n",
       "    </tr>\n",
       "  </thead>\n",
       "  <tbody>\n",
       "  </tbody>\n",
       "</table>\n",
       "</div>"
      ],
      "text/plain": [
       "Empty DataFrame\n",
       "Columns: [date, vehicle_category, maker, electric_vehicles_sold]\n",
       "Index: []"
      ]
     },
     "execution_count": 107,
     "metadata": {},
     "output_type": "execute_result"
    }
   ],
   "source": [
    "# duplicate check\n",
    "sales_by_makers[sales_by_makers.duplicated()]"
   ]
  },
  {
   "cell_type": "code",
   "execution_count": 108,
   "metadata": {},
   "outputs": [
    {
     "data": {
      "text/plain": [
       "date                       36\n",
       "vehicle_category            2\n",
       "maker                      26\n",
       "electric_vehicles_sold    603\n",
       "dtype: int64"
      ]
     },
     "execution_count": 108,
     "metadata": {},
     "output_type": "execute_result"
    }
   ],
   "source": [
    "# number of unique values in each column\n",
    "sales_by_makers.nunique()"
   ]
  },
  {
   "cell_type": "code",
   "execution_count": 109,
   "metadata": {},
   "outputs": [
    {
     "name": "stdout",
     "output_type": "stream",
     "text": [
      "['2-Wheelers' '4-Wheelers']\n",
      "Number of Unique Vehicle Category in Data is 2\n"
     ]
    }
   ],
   "source": [
    "# check unique values in vehicle category column\n",
    "print(f\"{sales_by_makers['vehicle_category'].unique()}\")\n",
    "print(f\"Number of Unique Vehicle Category in Data is {sales_by_makers['vehicle_category'].unique().shape[0]}\")"
   ]
  },
  {
   "cell_type": "code",
   "execution_count": 110,
   "metadata": {},
   "outputs": [
    {
     "name": "stdout",
     "output_type": "stream",
     "text": [
      "['OLA ELECTRIC' 'OKAYA EV' 'BYD India' 'PCA Automobiles' 'BMW India'\n",
      " 'Volvo Auto India' 'KIA Motors' 'Mercedes -Benz AG' 'Tata Motors'\n",
      " 'MG Motor' 'Mahindra & Mahindra' 'Hyundai Motor' 'HERO ELECTRIC'\n",
      " 'OKINAWA' 'AMPERE' 'ATHER' 'PURE EV' 'TVS' 'REVOLT' 'BAJAJ' 'BEING'\n",
      " 'JITENDRA' 'OTHERS' 'BGAUSS' 'BATTRE ELECTRIC' 'KINETIC GREEN']\n",
      "Number of Unique Maker in Data is 26\n"
     ]
    }
   ],
   "source": [
    "# check unique values in maker column\n",
    "print(f\"{sales_by_makers['maker'].unique()}\")\n",
    "print(f\"Number of Unique Maker in Data is {sales_by_makers['maker'].unique().shape[0]}\")"
   ]
  },
  {
   "cell_type": "code",
   "execution_count": 111,
   "metadata": {},
   "outputs": [
    {
     "data": {
      "text/plain": [
       "count      816.000000\n",
       "mean      2531.998775\n",
       "std       4771.077333\n",
       "min          0.000000\n",
       "25%         42.000000\n",
       "50%        662.000000\n",
       "75%       2636.500000\n",
       "max      44630.000000\n",
       "Name: electric_vehicles_sold, dtype: float64"
      ]
     },
     "execution_count": 111,
     "metadata": {},
     "output_type": "execute_result"
    }
   ],
   "source": [
    "# check numerical values in electric vehicles sold column\n",
    "sales_by_makers['electric_vehicles_sold'].describe()"
   ]
  },
  {
   "cell_type": "markdown",
   "metadata": {},
   "source": [
    "### Dim Date\n",
    "- date: The specific date for which the data is relevant. Format: DD-MMM-YY. (Data is recorded on a monthly basis)\n",
    "- fiscal_year: The fiscal year to which the date belongs. This is useful for financial and business analysis.\n",
    "- quarter: The fiscal quarter to which the date belongs. Fiscal quarters are typically divided as Q1, Q2, Q3, and Q4."
   ]
  },
  {
   "cell_type": "code",
   "execution_count": 112,
   "metadata": {},
   "outputs": [
    {
     "data": {
      "text/html": [
       "<div>\n",
       "<style scoped>\n",
       "    .dataframe tbody tr th:only-of-type {\n",
       "        vertical-align: middle;\n",
       "    }\n",
       "\n",
       "    .dataframe tbody tr th {\n",
       "        vertical-align: top;\n",
       "    }\n",
       "\n",
       "    .dataframe thead th {\n",
       "        text-align: right;\n",
       "    }\n",
       "</style>\n",
       "<table border=\"1\" class=\"dataframe\">\n",
       "  <thead>\n",
       "    <tr style=\"text-align: right;\">\n",
       "      <th></th>\n",
       "      <th>date</th>\n",
       "      <th>fiscal_year</th>\n",
       "      <th>quarter</th>\n",
       "    </tr>\n",
       "  </thead>\n",
       "  <tbody>\n",
       "    <tr>\n",
       "      <th>0</th>\n",
       "      <td>01-Apr-21</td>\n",
       "      <td>2022</td>\n",
       "      <td>Q1</td>\n",
       "    </tr>\n",
       "    <tr>\n",
       "      <th>1</th>\n",
       "      <td>01-May-21</td>\n",
       "      <td>2022</td>\n",
       "      <td>Q1</td>\n",
       "    </tr>\n",
       "    <tr>\n",
       "      <th>2</th>\n",
       "      <td>01-Jun-21</td>\n",
       "      <td>2022</td>\n",
       "      <td>Q1</td>\n",
       "    </tr>\n",
       "    <tr>\n",
       "      <th>3</th>\n",
       "      <td>01-Jul-21</td>\n",
       "      <td>2022</td>\n",
       "      <td>Q2</td>\n",
       "    </tr>\n",
       "    <tr>\n",
       "      <th>4</th>\n",
       "      <td>01-Aug-21</td>\n",
       "      <td>2022</td>\n",
       "      <td>Q2</td>\n",
       "    </tr>\n",
       "  </tbody>\n",
       "</table>\n",
       "</div>"
      ],
      "text/plain": [
       "        date  fiscal_year quarter\n",
       "0  01-Apr-21         2022      Q1\n",
       "1  01-May-21         2022      Q1\n",
       "2  01-Jun-21         2022      Q1\n",
       "3  01-Jul-21         2022      Q2\n",
       "4  01-Aug-21         2022      Q2"
      ]
     },
     "execution_count": 112,
     "metadata": {},
     "output_type": "execute_result"
    }
   ],
   "source": [
    "# top records\n",
    "dim_date.head()"
   ]
  },
  {
   "cell_type": "code",
   "execution_count": 113,
   "metadata": {},
   "outputs": [
    {
     "data": {
      "text/html": [
       "<div>\n",
       "<style scoped>\n",
       "    .dataframe tbody tr th:only-of-type {\n",
       "        vertical-align: middle;\n",
       "    }\n",
       "\n",
       "    .dataframe tbody tr th {\n",
       "        vertical-align: top;\n",
       "    }\n",
       "\n",
       "    .dataframe thead th {\n",
       "        text-align: right;\n",
       "    }\n",
       "</style>\n",
       "<table border=\"1\" class=\"dataframe\">\n",
       "  <thead>\n",
       "    <tr style=\"text-align: right;\">\n",
       "      <th></th>\n",
       "      <th>date</th>\n",
       "      <th>fiscal_year</th>\n",
       "      <th>quarter</th>\n",
       "    </tr>\n",
       "  </thead>\n",
       "  <tbody>\n",
       "    <tr>\n",
       "      <th>31</th>\n",
       "      <td>01-Nov-23</td>\n",
       "      <td>2024</td>\n",
       "      <td>Q3</td>\n",
       "    </tr>\n",
       "    <tr>\n",
       "      <th>32</th>\n",
       "      <td>01-Dec-23</td>\n",
       "      <td>2024</td>\n",
       "      <td>Q3</td>\n",
       "    </tr>\n",
       "    <tr>\n",
       "      <th>33</th>\n",
       "      <td>01-Jan-24</td>\n",
       "      <td>2024</td>\n",
       "      <td>Q4</td>\n",
       "    </tr>\n",
       "    <tr>\n",
       "      <th>34</th>\n",
       "      <td>01-Feb-24</td>\n",
       "      <td>2024</td>\n",
       "      <td>Q4</td>\n",
       "    </tr>\n",
       "    <tr>\n",
       "      <th>35</th>\n",
       "      <td>01-Mar-24</td>\n",
       "      <td>2024</td>\n",
       "      <td>Q4</td>\n",
       "    </tr>\n",
       "  </tbody>\n",
       "</table>\n",
       "</div>"
      ],
      "text/plain": [
       "         date  fiscal_year quarter\n",
       "31  01-Nov-23         2024      Q3\n",
       "32  01-Dec-23         2024      Q3\n",
       "33  01-Jan-24         2024      Q4\n",
       "34  01-Feb-24         2024      Q4\n",
       "35  01-Mar-24         2024      Q4"
      ]
     },
     "execution_count": 113,
     "metadata": {},
     "output_type": "execute_result"
    }
   ],
   "source": [
    "# last records\n",
    "dim_date.tail()"
   ]
  },
  {
   "cell_type": "code",
   "execution_count": 114,
   "metadata": {},
   "outputs": [
    {
     "name": "stdout",
     "output_type": "stream",
     "text": [
      "<class 'pandas.core.frame.DataFrame'>\n",
      "RangeIndex: 36 entries, 0 to 35\n",
      "Data columns (total 3 columns):\n",
      " #   Column       Non-Null Count  Dtype \n",
      "---  ------       --------------  ----- \n",
      " 0   date         36 non-null     object\n",
      " 1   fiscal_year  36 non-null     int64 \n",
      " 2   quarter      36 non-null     object\n",
      "dtypes: int64(1), object(2)\n",
      "memory usage: 996.0+ bytes\n"
     ]
    }
   ],
   "source": [
    "# check the data type of all columns and non values present in each\n",
    "dim_date.info()"
   ]
  },
  {
   "cell_type": "code",
   "execution_count": 115,
   "metadata": {},
   "outputs": [
    {
     "data": {
      "text/html": [
       "<div>\n",
       "<style scoped>\n",
       "    .dataframe tbody tr th:only-of-type {\n",
       "        vertical-align: middle;\n",
       "    }\n",
       "\n",
       "    .dataframe tbody tr th {\n",
       "        vertical-align: top;\n",
       "    }\n",
       "\n",
       "    .dataframe thead th {\n",
       "        text-align: right;\n",
       "    }\n",
       "</style>\n",
       "<table border=\"1\" class=\"dataframe\">\n",
       "  <thead>\n",
       "    <tr style=\"text-align: right;\">\n",
       "      <th></th>\n",
       "      <th>date</th>\n",
       "      <th>fiscal_year</th>\n",
       "      <th>quarter</th>\n",
       "    </tr>\n",
       "  </thead>\n",
       "  <tbody>\n",
       "  </tbody>\n",
       "</table>\n",
       "</div>"
      ],
      "text/plain": [
       "Empty DataFrame\n",
       "Columns: [date, fiscal_year, quarter]\n",
       "Index: []"
      ]
     },
     "execution_count": 115,
     "metadata": {},
     "output_type": "execute_result"
    }
   ],
   "source": [
    "# duplicated check\n",
    "dim_date[dim_date.duplicated()]"
   ]
  },
  {
   "cell_type": "code",
   "execution_count": 116,
   "metadata": {},
   "outputs": [
    {
     "data": {
      "text/plain": [
       "date           36\n",
       "fiscal_year     3\n",
       "quarter         4\n",
       "dtype: int64"
      ]
     },
     "execution_count": 116,
     "metadata": {},
     "output_type": "execute_result"
    }
   ],
   "source": [
    "# number of unique value in each column\n",
    "dim_date.nunique()"
   ]
  },
  {
   "cell_type": "code",
   "execution_count": 117,
   "metadata": {},
   "outputs": [
    {
     "name": "stdout",
     "output_type": "stream",
     "text": [
      "The latest Date is 2021-04-01 00:00:00\n",
      "The last Date is 2024-03-01 00:00:00\n"
     ]
    },
    {
     "name": "stderr",
     "output_type": "stream",
     "text": [
      "C:\\Users\\PC\\AppData\\Local\\Temp\\ipykernel_13080\\1075823594.py:2: UserWarning: Could not infer format, so each element will be parsed individually, falling back to `dateutil`. To ensure parsing is consistent and as-expected, please specify a format.\n",
      "  dim_date['date'] = pd.to_datetime(dim_date['date'])\n"
     ]
    }
   ],
   "source": [
    "# convert data types of date column to datetimes\n",
    "dim_date['date'] = pd.to_datetime(dim_date['date'])\n",
    "# check the latest date\n",
    "print(f\"The latest Date is {dim_date['date'].min()}\")\n",
    "# check the last date\n",
    "print(f\"The last Date is {dim_date['date'].max()}\")"
   ]
  },
  {
   "cell_type": "code",
   "execution_count": 118,
   "metadata": {},
   "outputs": [
    {
     "name": "stdout",
     "output_type": "stream",
     "text": [
      "[2022 2023 2024]\n",
      "Number of Unique Fiscal Year in Data is 3\n"
     ]
    }
   ],
   "source": [
    "# check unique values in fiscal year column\n",
    "print(f\"{dim_date['fiscal_year'].unique()}\")\n",
    "print(f\"Number of Unique Fiscal Year in Data is {dim_date['fiscal_year'].unique().shape[0]}\")"
   ]
  },
  {
   "cell_type": "code",
   "execution_count": 119,
   "metadata": {},
   "outputs": [
    {
     "name": "stdout",
     "output_type": "stream",
     "text": [
      "['Q1' 'Q2' 'Q3' 'Q4']\n",
      "Number of Unique Quarter in Data is 4\n"
     ]
    }
   ],
   "source": [
    "# check unique values in quarter column\n",
    "print(f\"{dim_date['quarter'].unique()}\")\n",
    "print(f\"Number of Unique Quarter in Data is {dim_date['quarter'].unique().shape[0]}\")"
   ]
  },
  {
   "cell_type": "markdown",
   "metadata": {},
   "source": [
    "## Data Pre-Processing"
   ]
  },
  {
   "cell_type": "markdown",
   "metadata": {},
   "source": [
    "### Outlier Processing\n",
    "\n",
    "Next we'll take a look at any outliers we may need to treat."
   ]
  },
  {
   "cell_type": "markdown",
   "metadata": {},
   "source": [
    "#### Create functions for calculating outliers"
   ]
  },
  {
   "cell_type": "code",
   "execution_count": 120,
   "metadata": {},
   "outputs": [],
   "source": [
    "# functions for calculating outliers\n",
    "def check_outlier(df, column):\n",
    "    \"\"\"_summary_\n",
    "\n",
    "    Args:\n",
    "        df (_type_): _description_\n",
    "        column (_type_): _description_\n",
    "    \"\"\"\n",
    "    # calculate percentage values:\n",
    "    Q1 = df[column].quantile(0.25)\n",
    "    Q2 = df[column].quantile(0.5)\n",
    "    Q3 = df[column].quantile(0.75)\n",
    "    # calculate the inter quartile range (IQR)\n",
    "    IQR = Q3 - Q1\n",
    "    # define lower, median, and upper thresholds to identify outliers \n",
    "    lower = Q1 - 1.5 * IQR # the lower threshold, calculated as Q1 minus 1.5 times IQR\n",
    "    median = Q2 \n",
    "    upper = Q3 + 1.5 * IQR # the upper threshold, calculated as Q3 plus 1.5 times IQR\n",
    "    # calculate the percentage of outliers\n",
    "    # The total number of values greater than upper or less than lower is divided by the total number of values in the column\n",
    "    # Then multiplied by 100 to get the percentage.\n",
    "    percent_outliers = round(((df[df[column] > upper].shape[0]) + (df[df[column] < lower].shape[0])) / df.shape[0] * 100, 2)\n",
    "# Create a DataFrame containing statistical indices\n",
    "    result = pd.DataFrame({\n",
    "        'lower_bound': [lower],\n",
    "        'median': [median],\n",
    "        'upper_bound': [upper],\n",
    "        'percent_outliers': [percent_outliers]\n",
    "    })\n",
    "    # returns calculated values\n",
    "    return result"
   ]
  },
  {
   "cell_type": "markdown",
   "metadata": {},
   "source": [
    "#### Check outlier of sold quantity column in sales_by_states DataFrame"
   ]
  },
  {
   "cell_type": "code",
   "execution_count": 121,
   "metadata": {},
   "outputs": [
    {
     "data": {
      "image/png": "[encoded data removed]",
      "text/plain": [
       "<Figure size 1600x600 with 2 Axes>"
      ]
     },
     "metadata": {},
     "output_type": "display_data"
    },
    {
     "name": "stdout",
     "output_type": "stream",
     "text": [
      "The Skew of Sold Quantity Data is: 4.71\n"
     ]
    }
   ],
   "source": [
    "# overview of outliers\n",
    "# set the size of chart\n",
    "plt.figure(figsize=(16,6))\n",
    "# first subplot by box plot\n",
    "plt.subplot(1,2,1)\n",
    "plt.grid()\n",
    "sns.boxplot(data=sales_by_states, x='electric_vehicles_sold', color='#DC5F00')\n",
    "plt.title(\"Distribution by BoxPlot\")\n",
    "# second subplot by hist plot\n",
    "plt.subplot(1,2,2)\n",
    "plt.grid()\n",
    "sns.histplot(data=sales_by_states, x='electric_vehicles_sold', color='#DC5F00')\n",
    "plt.title(\"Distribution by HistPlot\")\n",
    "# plot the chart\n",
    "plt.show()\n",
    "# Check the skewness of data in the \"sold_quantity\" column\n",
    "print(f\"The Skew of Sold Quantity Data is: {round(sales_by_states['electric_vehicles_sold'].skew(), 2)}\")"
   ]
  },
  {
   "cell_type": "markdown",
   "metadata": {},
   "source": [
    "##### Electric Vehicles Sold Outliers Data"
   ]
  },
  {
   "cell_type": "code",
   "execution_count": 122,
   "metadata": {},
   "outputs": [
    {
     "name": "stdout",
     "output_type": "stream",
     "text": [
      "lower bound is -796.0\n",
      "median is 54.0\n",
      "upper bound is 1332.0\n",
      "percentage of electric vehicles sold that are outliers is 14.72%\n"
     ]
    }
   ],
   "source": [
    "# check the outliers, find out the upper bound, lower bound of the electric vehicles sold column\n",
    "bound_state_sold = check_outlier(sales_by_states, 'electric_vehicles_sold')\n",
    "# print out the required information\n",
    "print(f\"lower bound is {bound_state_sold['lower_bound'].values[0]}\")\n",
    "print(f\"median is {bound_state_sold['median'].values[0]}\")\n",
    "print(f\"upper bound is {bound_state_sold['upper_bound'].values[0]}\")\n",
    "print(f\"percentage of electric vehicles sold that are outliers is {bound_state_sold['percent_outliers'].values[0]}%\")"
   ]
  },
  {
   "cell_type": "markdown",
   "metadata": {},
   "source": [
    "The data in the electric vehicles sold column has a lower bound of -796, and an upper bound of 1332.\n",
    "\n",
    "Based on the data distribution in the previous electric vehicles sold column we learned about, the data is skewed to the right. Therefore, we will only focus on further exploration of the upper bound\n",
    "\n",
    "Let's move on"
   ]
  },
  {
   "cell_type": "code",
   "execution_count": 123,
   "metadata": {},
   "outputs": [
    {
     "name": "stdout",
     "output_type": "stream",
     "text": [
      "The total number of outliers is 360\n"
     ]
    }
   ],
   "source": [
    "# Filter rows with electric vehicles sold quantity greater than upper bound of electric vehicles sold\n",
    "outliers_state_sold = sales_by_states[sales_by_states['electric_vehicles_sold']>bound_state_sold['upper_bound'].values[0]]\n",
    "# check how many rows are outliers\n",
    "print(f\"The total number of outliers is {outliers_state_sold.shape[0]}\")"
   ]
  },
  {
   "cell_type": "code",
   "execution_count": 124,
   "metadata": {},
   "outputs": [
    {
     "name": "stdout",
     "output_type": "stream",
     "text": [
      "The number of Electric vehicles sold outliers for 4-Wheelers vehicles category is 8\n",
      "The number of Electric vehicles sold outliers for 2-Wheelers vehicles category is 352\n"
     ]
    }
   ],
   "source": [
    "# count the outlier electric vehicles sold values in each vehicle category\n",
    "for i in outliers_state_sold['vehicle_category'].unique():\n",
    "    print(\n",
    "        f\"The number of Electric vehicles sold outliers for {i} vehicles category is {outliers_state_sold[outliers_state_sold['vehicle_category']==i]['vehicle_category'].count()}\"\n",
    "          )"
   ]
  },
  {
   "cell_type": "code",
   "execution_count": 125,
   "metadata": {},
   "outputs": [
    {
     "data": {
      "text/html": [
       "<div>\n",
       "<style scoped>\n",
       "    .dataframe tbody tr th:only-of-type {\n",
       "        vertical-align: middle;\n",
       "    }\n",
       "\n",
       "    .dataframe tbody tr th {\n",
       "        vertical-align: top;\n",
       "    }\n",
       "\n",
       "    .dataframe thead th {\n",
       "        text-align: right;\n",
       "    }\n",
       "</style>\n",
       "<table border=\"1\" class=\"dataframe\">\n",
       "  <thead>\n",
       "    <tr style=\"text-align: right;\">\n",
       "      <th></th>\n",
       "      <th>state</th>\n",
       "      <th>min</th>\n",
       "      <th>mean</th>\n",
       "      <th>median</th>\n",
       "      <th>max</th>\n",
       "    </tr>\n",
       "  </thead>\n",
       "  <tbody>\n",
       "    <tr>\n",
       "      <th>0</th>\n",
       "      <td>Andaman &amp; Nicobar</td>\n",
       "      <td>2</td>\n",
       "      <td>2.000000</td>\n",
       "      <td>2.0</td>\n",
       "      <td>2</td>\n",
       "    </tr>\n",
       "    <tr>\n",
       "      <th>1</th>\n",
       "      <td>Andaman &amp; Nicobar Island</td>\n",
       "      <td>0</td>\n",
       "      <td>1.000000</td>\n",
       "      <td>0.0</td>\n",
       "      <td>10</td>\n",
       "    </tr>\n",
       "    <tr>\n",
       "      <th>2</th>\n",
       "      <td>Andhra Pradesh</td>\n",
       "      <td>201</td>\n",
       "      <td>2058.305556</td>\n",
       "      <td>1909.5</td>\n",
       "      <td>7057</td>\n",
       "    </tr>\n",
       "    <tr>\n",
       "      <th>3</th>\n",
       "      <td>Arunachal Pradesh</td>\n",
       "      <td>0</td>\n",
       "      <td>0.111111</td>\n",
       "      <td>0.0</td>\n",
       "      <td>2</td>\n",
       "    </tr>\n",
       "    <tr>\n",
       "      <th>4</th>\n",
       "      <td>Assam</td>\n",
       "      <td>0</td>\n",
       "      <td>165.638889</td>\n",
       "      <td>172.0</td>\n",
       "      <td>767</td>\n",
       "    </tr>\n",
       "    <tr>\n",
       "      <th>5</th>\n",
       "      <td>Bihar</td>\n",
       "      <td>8</td>\n",
       "      <td>833.888889</td>\n",
       "      <td>768.0</td>\n",
       "      <td>2584</td>\n",
       "    </tr>\n",
       "    <tr>\n",
       "      <th>6</th>\n",
       "      <td>Chandigarh</td>\n",
       "      <td>0</td>\n",
       "      <td>101.500000</td>\n",
       "      <td>98.5</td>\n",
       "      <td>362</td>\n",
       "    </tr>\n",
       "    <tr>\n",
       "      <th>7</th>\n",
       "      <td>Chhattisgarh</td>\n",
       "      <td>6</td>\n",
       "      <td>1441.361111</td>\n",
       "      <td>1378.5</td>\n",
       "      <td>3880</td>\n",
       "    </tr>\n",
       "    <tr>\n",
       "      <th>8</th>\n",
       "      <td>DNH and DD</td>\n",
       "      <td>0</td>\n",
       "      <td>7.805556</td>\n",
       "      <td>5.0</td>\n",
       "      <td>31</td>\n",
       "    </tr>\n",
       "    <tr>\n",
       "      <th>9</th>\n",
       "      <td>Delhi</td>\n",
       "      <td>0</td>\n",
       "      <td>2477.166667</td>\n",
       "      <td>2497.5</td>\n",
       "      <td>5380</td>\n",
       "    </tr>\n",
       "    <tr>\n",
       "      <th>10</th>\n",
       "      <td>Goa</td>\n",
       "      <td>17</td>\n",
       "      <td>489.833333</td>\n",
       "      <td>522.5</td>\n",
       "      <td>1745</td>\n",
       "    </tr>\n",
       "    <tr>\n",
       "      <th>11</th>\n",
       "      <td>Gujarat</td>\n",
       "      <td>98</td>\n",
       "      <td>4709.916667</td>\n",
       "      <td>5311.0</td>\n",
       "      <td>9609</td>\n",
       "    </tr>\n",
       "    <tr>\n",
       "      <th>12</th>\n",
       "      <td>Haryana</td>\n",
       "      <td>17</td>\n",
       "      <td>732.083333</td>\n",
       "      <td>708.0</td>\n",
       "      <td>1387</td>\n",
       "    </tr>\n",
       "    <tr>\n",
       "      <th>13</th>\n",
       "      <td>Himachal Pradesh</td>\n",
       "      <td>4</td>\n",
       "      <td>65.305556</td>\n",
       "      <td>65.5</td>\n",
       "      <td>134</td>\n",
       "    </tr>\n",
       "    <tr>\n",
       "      <th>14</th>\n",
       "      <td>Jammu and Kashmir</td>\n",
       "      <td>22</td>\n",
       "      <td>158.972222</td>\n",
       "      <td>153.5</td>\n",
       "      <td>316</td>\n",
       "    </tr>\n",
       "    <tr>\n",
       "      <th>15</th>\n",
       "      <td>Jharkhand</td>\n",
       "      <td>39</td>\n",
       "      <td>491.277778</td>\n",
       "      <td>500.0</td>\n",
       "      <td>953</td>\n",
       "    </tr>\n",
       "    <tr>\n",
       "      <th>16</th>\n",
       "      <td>Karnataka</td>\n",
       "      <td>140</td>\n",
       "      <td>8120.250000</td>\n",
       "      <td>7740.0</td>\n",
       "      <td>22742</td>\n",
       "    </tr>\n",
       "    <tr>\n",
       "      <th>17</th>\n",
       "      <td>Kerala</td>\n",
       "      <td>95</td>\n",
       "      <td>3349.805556</td>\n",
       "      <td>3364.5</td>\n",
       "      <td>8393</td>\n",
       "    </tr>\n",
       "    <tr>\n",
       "      <th>18</th>\n",
       "      <td>Ladakh</td>\n",
       "      <td>0</td>\n",
       "      <td>1.611111</td>\n",
       "      <td>0.0</td>\n",
       "      <td>14</td>\n",
       "    </tr>\n",
       "    <tr>\n",
       "      <th>19</th>\n",
       "      <td>Madhya Pradesh</td>\n",
       "      <td>1</td>\n",
       "      <td>2121.166667</td>\n",
       "      <td>1914.5</td>\n",
       "      <td>5772</td>\n",
       "    </tr>\n",
       "    <tr>\n",
       "      <th>20</th>\n",
       "      <td>Maharashtra</td>\n",
       "      <td>189</td>\n",
       "      <td>10104.583333</td>\n",
       "      <td>9772.5</td>\n",
       "      <td>26668</td>\n",
       "    </tr>\n",
       "    <tr>\n",
       "      <th>21</th>\n",
       "      <td>Manipur</td>\n",
       "      <td>0</td>\n",
       "      <td>7.000000</td>\n",
       "      <td>4.0</td>\n",
       "      <td>63</td>\n",
       "    </tr>\n",
       "    <tr>\n",
       "      <th>22</th>\n",
       "      <td>Meghalaya</td>\n",
       "      <td>0</td>\n",
       "      <td>3.750000</td>\n",
       "      <td>1.0</td>\n",
       "      <td>26</td>\n",
       "    </tr>\n",
       "    <tr>\n",
       "      <th>23</th>\n",
       "      <td>Mizoram</td>\n",
       "      <td>0</td>\n",
       "      <td>9.416667</td>\n",
       "      <td>4.0</td>\n",
       "      <td>58</td>\n",
       "    </tr>\n",
       "    <tr>\n",
       "      <th>24</th>\n",
       "      <td>Nagaland</td>\n",
       "      <td>0</td>\n",
       "      <td>0.250000</td>\n",
       "      <td>0.0</td>\n",
       "      <td>2</td>\n",
       "    </tr>\n",
       "    <tr>\n",
       "      <th>25</th>\n",
       "      <td>Odisha</td>\n",
       "      <td>28</td>\n",
       "      <td>2173.800000</td>\n",
       "      <td>2261.0</td>\n",
       "      <td>4383</td>\n",
       "    </tr>\n",
       "    <tr>\n",
       "      <th>26</th>\n",
       "      <td>Puducherry</td>\n",
       "      <td>3</td>\n",
       "      <td>148.972222</td>\n",
       "      <td>138.0</td>\n",
       "      <td>477</td>\n",
       "    </tr>\n",
       "    <tr>\n",
       "      <th>27</th>\n",
       "      <td>Punjab</td>\n",
       "      <td>9</td>\n",
       "      <td>628.666667</td>\n",
       "      <td>606.0</td>\n",
       "      <td>1514</td>\n",
       "    </tr>\n",
       "    <tr>\n",
       "      <th>28</th>\n",
       "      <td>Rajasthan</td>\n",
       "      <td>33</td>\n",
       "      <td>3956.250000</td>\n",
       "      <td>4036.5</td>\n",
       "      <td>9455</td>\n",
       "    </tr>\n",
       "    <tr>\n",
       "      <th>29</th>\n",
       "      <td>Sikkim</td>\n",
       "      <td>0</td>\n",
       "      <td>0.000000</td>\n",
       "      <td>0.0</td>\n",
       "      <td>0</td>\n",
       "    </tr>\n",
       "    <tr>\n",
       "      <th>30</th>\n",
       "      <td>Tamil Nadu</td>\n",
       "      <td>237</td>\n",
       "      <td>5245.972222</td>\n",
       "      <td>5242.0</td>\n",
       "      <td>13350</td>\n",
       "    </tr>\n",
       "    <tr>\n",
       "      <th>31</th>\n",
       "      <td>Tripura</td>\n",
       "      <td>0</td>\n",
       "      <td>14.500000</td>\n",
       "      <td>11.5</td>\n",
       "      <td>65</td>\n",
       "    </tr>\n",
       "    <tr>\n",
       "      <th>32</th>\n",
       "      <td>Uttar Pradesh</td>\n",
       "      <td>25</td>\n",
       "      <td>2476.805556</td>\n",
       "      <td>1960.0</td>\n",
       "      <td>7799</td>\n",
       "    </tr>\n",
       "    <tr>\n",
       "      <th>33</th>\n",
       "      <td>Uttarakhand</td>\n",
       "      <td>6</td>\n",
       "      <td>388.527778</td>\n",
       "      <td>384.5</td>\n",
       "      <td>839</td>\n",
       "    </tr>\n",
       "    <tr>\n",
       "      <th>34</th>\n",
       "      <td>West Bengal</td>\n",
       "      <td>6</td>\n",
       "      <td>718.416667</td>\n",
       "      <td>646.0</td>\n",
       "      <td>2625</td>\n",
       "    </tr>\n",
       "  </tbody>\n",
       "</table>\n",
       "</div>"
      ],
      "text/plain": [
       "                       state  min          mean  median    max\n",
       "0          Andaman & Nicobar    2      2.000000     2.0      2\n",
       "1   Andaman & Nicobar Island    0      1.000000     0.0     10\n",
       "2             Andhra Pradesh  201   2058.305556  1909.5   7057\n",
       "3          Arunachal Pradesh    0      0.111111     0.0      2\n",
       "4                      Assam    0    165.638889   172.0    767\n",
       "5                      Bihar    8    833.888889   768.0   2584\n",
       "6                 Chandigarh    0    101.500000    98.5    362\n",
       "7               Chhattisgarh    6   1441.361111  1378.5   3880\n",
       "8                 DNH and DD    0      7.805556     5.0     31\n",
       "9                      Delhi    0   2477.166667  2497.5   5380\n",
       "10                       Goa   17    489.833333   522.5   1745\n",
       "11                   Gujarat   98   4709.916667  5311.0   9609\n",
       "12                   Haryana   17    732.083333   708.0   1387\n",
       "13          Himachal Pradesh    4     65.305556    65.5    134\n",
       "14         Jammu and Kashmir   22    158.972222   153.5    316\n",
       "15                 Jharkhand   39    491.277778   500.0    953\n",
       "16                 Karnataka  140   8120.250000  7740.0  22742\n",
       "17                    Kerala   95   3349.805556  3364.5   8393\n",
       "18                    Ladakh    0      1.611111     0.0     14\n",
       "19            Madhya Pradesh    1   2121.166667  1914.5   5772\n",
       "20               Maharashtra  189  10104.583333  9772.5  26668\n",
       "21                   Manipur    0      7.000000     4.0     63\n",
       "22                 Meghalaya    0      3.750000     1.0     26\n",
       "23                   Mizoram    0      9.416667     4.0     58\n",
       "24                  Nagaland    0      0.250000     0.0      2\n",
       "25                    Odisha   28   2173.800000  2261.0   4383\n",
       "26                Puducherry    3    148.972222   138.0    477\n",
       "27                    Punjab    9    628.666667   606.0   1514\n",
       "28                 Rajasthan   33   3956.250000  4036.5   9455\n",
       "29                    Sikkim    0      0.000000     0.0      0\n",
       "30                Tamil Nadu  237   5245.972222  5242.0  13350\n",
       "31                   Tripura    0     14.500000    11.5     65\n",
       "32             Uttar Pradesh   25   2476.805556  1960.0   7799\n",
       "33               Uttarakhand    6    388.527778   384.5    839\n",
       "34               West Bengal    6    718.416667   646.0   2625"
      ]
     },
     "execution_count": 125,
     "metadata": {},
     "output_type": "execute_result"
    }
   ],
   "source": [
    "# filter rows with 'vehicles category' is \"2-Wheelers\"\n",
    "state_wheeler_2 = sales_by_states[sales_by_states['vehicle_category']=='2-Wheelers']\n",
    "# statistics values\n",
    "stats_state_wheelers_2 = state_wheeler_2.groupby(['state']).agg(\n",
    "    min=('electric_vehicles_sold','min'),\n",
    "    mean=('electric_vehicles_sold','mean'),\n",
    "    median=('electric_vehicles_sold','median'),\n",
    "    max=('electric_vehicles_sold','max')\n",
    ").reset_index()\n",
    "# check data after processing\n",
    "stats_state_wheelers_2"
   ]
  },
  {
   "cell_type": "code",
   "execution_count": 126,
   "metadata": {},
   "outputs": [
    {
     "data": {
      "image/png": "[encoded data removed]",
      "text/plain": [
       "<Figure size 1600x600 with 2 Axes>"
      ]
     },
     "metadata": {},
     "output_type": "display_data"
    },
    {
     "name": "stdout",
     "output_type": "stream",
     "text": [
      "The Skew of 2-Wheelers Sold Data is: 3.27\n"
     ]
    }
   ],
   "source": [
    "# overview of outliers\n",
    "# set the size of chart\n",
    "plt.figure(figsize=(16,6))\n",
    "# first subplot by box plot\n",
    "plt.subplot(1,2,1)\n",
    "plt.grid()\n",
    "sns.boxplot(data=state_wheeler_2, x='electric_vehicles_sold', color='#DC5F00')\n",
    "plt.title(\"Distribution by BoxPlot\")\n",
    "# second subplot by hist plot\n",
    "plt.subplot(1,2,2)\n",
    "plt.grid()\n",
    "sns.histplot(data=state_wheeler_2, x='electric_vehicles_sold', color='#DC5F00')\n",
    "plt.title(\"Distribution by HistPlot\")\n",
    "# plot the chart\n",
    "plt.show()\n",
    "# Check the skewness of data in the \"sold_quantity\" column\n",
    "print(f\"The Skew of 2-Wheelers Sold Data is: {round(state_wheeler_2['electric_vehicles_sold'].skew(), 2)}\")"
   ]
  },
  {
   "cell_type": "code",
   "execution_count": 127,
   "metadata": {},
   "outputs": [
    {
     "name": "stdout",
     "output_type": "stream",
     "text": [
      "lower bound is -2663.0\n",
      "median is 282.0\n",
      "upper bound is 4457.0\n",
      "percentage of electric vehicles sold that are outliers is 11.28%\n"
     ]
    }
   ],
   "source": [
    "# check the outliers, find out the upper bound, lower bound of the electric vehicles sold column\n",
    "bound_state_wheelers_2_sold = check_outlier(state_wheeler_2, 'electric_vehicles_sold')\n",
    "# print out the required information\n",
    "print(f\"lower bound is {bound_state_wheelers_2_sold['lower_bound'].values[0]}\")\n",
    "print(f\"median is {bound_state_wheelers_2_sold['median'].values[0]}\")\n",
    "print(f\"upper bound is {bound_state_wheelers_2_sold['upper_bound'].values[0]}\")\n",
    "print(f\"percentage of electric vehicles sold that are outliers is {bound_state_wheelers_2_sold['percent_outliers'].values[0]}%\")"
   ]
  },
  {
   "cell_type": "code",
   "execution_count": 128,
   "metadata": {},
   "outputs": [
    {
     "name": "stdout",
     "output_type": "stream",
     "text": [
      "The total number of outliers is 138\n"
     ]
    }
   ],
   "source": [
    "# Filter rows with electric vehicles sold quantity greater than upper bound of electric vehicles sold\n",
    "outliers_state_wheelers_2_sold = state_wheeler_2[state_wheeler_2['electric_vehicles_sold']>bound_state_wheelers_2_sold['upper_bound'].values[0]]\n",
    "# check how many rows are outliers\n",
    "print(f\"The total number of outliers is {outliers_state_wheelers_2_sold.shape[0]}\")"
   ]
  },
  {
   "cell_type": "code",
   "execution_count": 129,
   "metadata": {},
   "outputs": [
    {
     "name": "stderr",
     "output_type": "stream",
     "text": [
      "C:\\Users\\PC\\AppData\\Local\\Temp\\ipykernel_13080\\2133925084.py:3: UserWarning: Could not infer format, so each element will be parsed individually, falling back to `dateutil`. To ensure parsing is consistent and as-expected, please specify a format.\n",
      "  outliers_state_wheelers_2['date'] = pd.to_datetime(outliers_state_wheelers_2['date'])\n"
     ]
    },
    {
     "data": {
      "image/png": "[encoded data removed]",
      "text/plain": [
       "<Figure size 2000x1000 with 1 Axes>"
      ]
     },
     "metadata": {},
     "output_type": "display_data"
    }
   ],
   "source": [
    "# groupby 'electric_vehicles_sold' by 'date',and 'state'\n",
    "outliers_state_wheelers_2 = outliers_state_wheelers_2_sold.groupby(['date']).agg(total_sold=('electric_vehicles_sold','sum')).reset_index()\n",
    "outliers_state_wheelers_2['date'] = pd.to_datetime(outliers_state_wheelers_2['date'])\n",
    "# set the size of the figure\n",
    "plt.figure(figsize=(20,10))\n",
    "# plot the line chart for the column\n",
    "ax = sns.lineplot(data=outliers_state_wheelers_2, x='date', y='total_sold', marker='o', color='#C40C0C')\n",
    "# set the line chart for the column\n",
    "plt.title(\"Distribution of Total Sold Quantity that are outliers by Date\")\n",
    "plt.xlabel('Date')\n",
    "plt.ylabel('Total Sold Quantity Outlier Values')\n",
    "plt.ylim(outliers_state_wheelers_2['total_sold'].min()*0.95, outliers_state_wheelers_2['total_sold'].max()*1.05) # set x-ticks with labels\n",
    "plt.grid()\n",
    "# Adjust layout\n",
    "plt.tight_layout()\n",
    "# show the plot\n",
    "plt.show()"
   ]
  },
  {
   "cell_type": "markdown",
   "metadata": {},
   "source": [
    "#### Check outlier of sold quantity column in sales_by_makers DataFrame"
   ]
  },
  {
   "cell_type": "markdown",
   "metadata": {},
   "source": [
    "##### Electric Vehicles Sold Outliers Data"
   ]
  },
  {
   "cell_type": "code",
   "execution_count": 130,
   "metadata": {},
   "outputs": [
    {
     "name": "stdout",
     "output_type": "stream",
     "text": [
      "lower bound is -3849.75\n",
      "median is 662.0\n",
      "upper bound is 6528.25\n",
      "percentage of electric vehicles sold that are outliers is 12.75%\n"
     ]
    }
   ],
   "source": [
    "# check the outliers, find out the upper bound, lower bound of the electric vehicles sold column\n",
    "bound_maker_sold = check_outlier(sales_by_makers, 'electric_vehicles_sold')\n",
    "# print out the required information\n",
    "print(f\"lower bound is {bound_maker_sold['lower_bound'].values[0]}\")\n",
    "print(f\"median is {bound_maker_sold['median'].values[0]}\")\n",
    "print(f\"upper bound is {bound_maker_sold['upper_bound'].values[0]}\")\n",
    "print(f\"percentage of electric vehicles sold that are outliers is {bound_maker_sold['percent_outliers'].values[0]}%\")"
   ]
  },
  {
   "cell_type": "markdown",
   "metadata": {},
   "source": [
    "The data in the electric vehicles sold column has a lower bound of -796, and an upper bound of 1332.\n",
    "\n",
    "Based on the data distribution in the previous electric vehicles sold column we learned about, the data is skewed to the right. Therefore, we will only focus on further exploration of the upper bound\n",
    "\n",
    "Let's move on"
   ]
  },
  {
   "cell_type": "code",
   "execution_count": 131,
   "metadata": {},
   "outputs": [
    {
     "name": "stdout",
     "output_type": "stream",
     "text": [
      "The total number of outliers is 104\n"
     ]
    }
   ],
   "source": [
    "# Filter rows with electric vehicles sold quantity greater than upper bound of electric vehicles sold\n",
    "outliers_maker_sold = sales_by_makers[sales_by_makers['electric_vehicles_sold']>bound_maker_sold['upper_bound'].values[0]]\n",
    "# check how many rows are outliers\n",
    "print(f\"The total number of outliers is {outliers_maker_sold.shape[0]}\")"
   ]
  },
  {
   "cell_type": "code",
   "execution_count": 132,
   "metadata": {},
   "outputs": [
    {
     "name": "stdout",
     "output_type": "stream",
     "text": [
      "The number of Electric vehicles sold outliers for 4-Wheelers vehicles category is 1\n",
      "The number of Electric vehicles sold outliers for 2-Wheelers vehicles category is 103\n"
     ]
    }
   ],
   "source": [
    "# count the outlier electric vehicles sold values in each vehicle category\n",
    "for i in outliers_maker_sold['vehicle_category'].unique():\n",
    "    print(\n",
    "        f\"The number of Electric vehicles sold outliers for {i} vehicles category is {outliers_maker_sold[outliers_maker_sold['vehicle_category']==i]['vehicle_category'].count()}\"\n",
    "          )"
   ]
  },
  {
   "cell_type": "code",
   "execution_count": 133,
   "metadata": {},
   "outputs": [
    {
     "data": {
      "text/html": [
       "<div>\n",
       "<style scoped>\n",
       "    .dataframe tbody tr th:only-of-type {\n",
       "        vertical-align: middle;\n",
       "    }\n",
       "\n",
       "    .dataframe tbody tr th {\n",
       "        vertical-align: top;\n",
       "    }\n",
       "\n",
       "    .dataframe thead th {\n",
       "        text-align: right;\n",
       "    }\n",
       "</style>\n",
       "<table border=\"1\" class=\"dataframe\">\n",
       "  <thead>\n",
       "    <tr style=\"text-align: right;\">\n",
       "      <th></th>\n",
       "      <th>maker</th>\n",
       "      <th>min</th>\n",
       "      <th>mean</th>\n",
       "      <th>median</th>\n",
       "      <th>max</th>\n",
       "    </tr>\n",
       "  </thead>\n",
       "  <tbody>\n",
       "    <tr>\n",
       "      <th>0</th>\n",
       "      <td>AMPERE</td>\n",
       "      <td>147</td>\n",
       "      <td>4646.500000</td>\n",
       "      <td>4398.5</td>\n",
       "      <td>12446</td>\n",
       "    </tr>\n",
       "    <tr>\n",
       "      <th>1</th>\n",
       "      <td>ATHER</td>\n",
       "      <td>160</td>\n",
       "      <td>5679.138889</td>\n",
       "      <td>5828.0</td>\n",
       "      <td>17012</td>\n",
       "    </tr>\n",
       "    <tr>\n",
       "      <th>2</th>\n",
       "      <td>BAJAJ</td>\n",
       "      <td>20</td>\n",
       "      <td>4044.611111</td>\n",
       "      <td>2578.5</td>\n",
       "      <td>17716</td>\n",
       "    </tr>\n",
       "    <tr>\n",
       "      <th>3</th>\n",
       "      <td>BATTRE ELECTRIC</td>\n",
       "      <td>82</td>\n",
       "      <td>403.416667</td>\n",
       "      <td>269.5</td>\n",
       "      <td>1185</td>\n",
       "    </tr>\n",
       "    <tr>\n",
       "      <th>4</th>\n",
       "      <td>BEING</td>\n",
       "      <td>54</td>\n",
       "      <td>766.333333</td>\n",
       "      <td>893.0</td>\n",
       "      <td>1422</td>\n",
       "    </tr>\n",
       "    <tr>\n",
       "      <th>5</th>\n",
       "      <td>BGAUSS</td>\n",
       "      <td>189</td>\n",
       "      <td>1254.250000</td>\n",
       "      <td>1178.5</td>\n",
       "      <td>3070</td>\n",
       "    </tr>\n",
       "    <tr>\n",
       "      <th>6</th>\n",
       "      <td>HERO ELECTRIC</td>\n",
       "      <td>170</td>\n",
       "      <td>4733.166667</td>\n",
       "      <td>5695.0</td>\n",
       "      <td>13652</td>\n",
       "    </tr>\n",
       "    <tr>\n",
       "      <th>7</th>\n",
       "      <td>JITENDRA</td>\n",
       "      <td>13</td>\n",
       "      <td>518.250000</td>\n",
       "      <td>528.5</td>\n",
       "      <td>1256</td>\n",
       "    </tr>\n",
       "    <tr>\n",
       "      <th>8</th>\n",
       "      <td>KINETIC GREEN</td>\n",
       "      <td>201</td>\n",
       "      <td>798.750000</td>\n",
       "      <td>523.0</td>\n",
       "      <td>3915</td>\n",
       "    </tr>\n",
       "    <tr>\n",
       "      <th>9</th>\n",
       "      <td>OKAYA EV</td>\n",
       "      <td>0</td>\n",
       "      <td>1126.500000</td>\n",
       "      <td>1015.0</td>\n",
       "      <td>3831</td>\n",
       "    </tr>\n",
       "    <tr>\n",
       "      <th>10</th>\n",
       "      <td>OKINAWA</td>\n",
       "      <td>245</td>\n",
       "      <td>4589.750000</td>\n",
       "      <td>3584.5</td>\n",
       "      <td>14950</td>\n",
       "    </tr>\n",
       "    <tr>\n",
       "      <th>11</th>\n",
       "      <td>OLA ELECTRIC</td>\n",
       "      <td>0</td>\n",
       "      <td>13596.472222</td>\n",
       "      <td>14496.0</td>\n",
       "      <td>44630</td>\n",
       "    </tr>\n",
       "    <tr>\n",
       "      <th>12</th>\n",
       "      <td>OTHERS</td>\n",
       "      <td>260</td>\n",
       "      <td>4346.416667</td>\n",
       "      <td>4390.5</td>\n",
       "      <td>10579</td>\n",
       "    </tr>\n",
       "    <tr>\n",
       "      <th>13</th>\n",
       "      <td>PURE EV</td>\n",
       "      <td>122</td>\n",
       "      <td>1105.166667</td>\n",
       "      <td>1070.5</td>\n",
       "      <td>2065</td>\n",
       "    </tr>\n",
       "    <tr>\n",
       "      <th>14</th>\n",
       "      <td>REVOLT</td>\n",
       "      <td>14</td>\n",
       "      <td>773.000000</td>\n",
       "      <td>673.0</td>\n",
       "      <td>2423</td>\n",
       "    </tr>\n",
       "    <tr>\n",
       "      <th>15</th>\n",
       "      <td>TVS</td>\n",
       "      <td>9</td>\n",
       "      <td>7571.527778</td>\n",
       "      <td>6123.0</td>\n",
       "      <td>26158</td>\n",
       "    </tr>\n",
       "  </tbody>\n",
       "</table>\n",
       "</div>"
      ],
      "text/plain": [
       "              maker  min          mean   median    max\n",
       "0            AMPERE  147   4646.500000   4398.5  12446\n",
       "1             ATHER  160   5679.138889   5828.0  17012\n",
       "2             BAJAJ   20   4044.611111   2578.5  17716\n",
       "3   BATTRE ELECTRIC   82    403.416667    269.5   1185\n",
       "4             BEING   54    766.333333    893.0   1422\n",
       "5            BGAUSS  189   1254.250000   1178.5   3070\n",
       "6     HERO ELECTRIC  170   4733.166667   5695.0  13652\n",
       "7          JITENDRA   13    518.250000    528.5   1256\n",
       "8     KINETIC GREEN  201    798.750000    523.0   3915\n",
       "9          OKAYA EV    0   1126.500000   1015.0   3831\n",
       "10          OKINAWA  245   4589.750000   3584.5  14950\n",
       "11     OLA ELECTRIC    0  13596.472222  14496.0  44630\n",
       "12           OTHERS  260   4346.416667   4390.5  10579\n",
       "13          PURE EV  122   1105.166667   1070.5   2065\n",
       "14           REVOLT   14    773.000000    673.0   2423\n",
       "15              TVS    9   7571.527778   6123.0  26158"
      ]
     },
     "execution_count": 133,
     "metadata": {},
     "output_type": "execute_result"
    }
   ],
   "source": [
    "# filter rows with 'vehicles category' is \"2-Wheelers\"\n",
    "maker_wheeler_2 = sales_by_makers[sales_by_makers['vehicle_category']=='2-Wheelers']\n",
    "# statistics values\n",
    "stats_maker_wheelers_2 = maker_wheeler_2.groupby(['maker']).agg(\n",
    "    min=('electric_vehicles_sold','min'),\n",
    "    mean=('electric_vehicles_sold','mean'),\n",
    "    median=('electric_vehicles_sold','median'),\n",
    "    max=('electric_vehicles_sold','max')\n",
    ").reset_index()\n",
    "# check data after processing\n",
    "stats_maker_wheelers_2"
   ]
  },
  {
   "cell_type": "code",
   "execution_count": 134,
   "metadata": {},
   "outputs": [
    {
     "data": {
      "image/png": "[encoded data removed]",
      "text/plain": [
       "<Figure size 1600x600 with 2 Axes>"
      ]
     },
     "metadata": {},
     "output_type": "display_data"
    },
    {
     "name": "stdout",
     "output_type": "stream",
     "text": [
      "The Skew of 2-Wheelers Sold Data is: 2.76\n"
     ]
    }
   ],
   "source": [
    "# overview of outliers\n",
    "# set the size of chart\n",
    "plt.figure(figsize=(16,6))\n",
    "# first subplot by box plot\n",
    "plt.subplot(1,2,1)\n",
    "plt.grid()\n",
    "sns.boxplot(data=maker_wheeler_2, x='electric_vehicles_sold', color='#DC5F00')\n",
    "plt.title(\"Distribution by BoxPlot\")\n",
    "# second subplot by hist plot\n",
    "plt.subplot(1,2,2)\n",
    "plt.grid()\n",
    "sns.histplot(data=maker_wheeler_2, x='electric_vehicles_sold', color='#DC5F00')\n",
    "plt.title(\"Distribution by HistPlot\")\n",
    "# plot the chart\n",
    "plt.show()\n",
    "# Check the skewness of data in the \"sold_quantity\" column\n",
    "print(f\"The Skew of 2-Wheelers Sold Data is: {round(maker_wheeler_2['electric_vehicles_sold'].skew(), 2)}\")"
   ]
  },
  {
   "cell_type": "code",
   "execution_count": 135,
   "metadata": {},
   "outputs": [
    {
     "name": "stdout",
     "output_type": "stream",
     "text": [
      "lower bound is -7382.25\n",
      "median is 1620.0\n",
      "upper bound is 14081.75\n",
      "percentage of electric vehicles sold that are outliers is 6.8%\n"
     ]
    }
   ],
   "source": [
    "# check the outliers, find out the upper bound, lower bound of the electric vehicles sold column\n",
    "bound_maker_wheelers_2_sold = check_outlier(maker_wheeler_2, 'electric_vehicles_sold')\n",
    "# print out the required information\n",
    "print(f\"lower bound is {bound_maker_wheelers_2_sold['lower_bound'].values[0]}\")\n",
    "print(f\"median is {bound_maker_wheelers_2_sold['median'].values[0]}\")\n",
    "print(f\"upper bound is {bound_maker_wheelers_2_sold['upper_bound'].values[0]}\")\n",
    "print(f\"percentage of electric vehicles sold that are outliers is {bound_maker_wheelers_2_sold['percent_outliers'].values[0]}%\")"
   ]
  },
  {
   "cell_type": "code",
   "execution_count": 136,
   "metadata": {},
   "outputs": [
    {
     "name": "stdout",
     "output_type": "stream",
     "text": [
      "The total number of outliers is 31\n"
     ]
    }
   ],
   "source": [
    "# Filter rows with electric vehicles sold quantity greater than upper bound of electric vehicles sold\n",
    "outliers_maker_wheelers_2_sold = maker_wheeler_2[maker_wheeler_2['electric_vehicles_sold']>bound_maker_wheelers_2_sold['upper_bound'].values[0]]\n",
    "# check how many rows are outliers\n",
    "print(f\"The total number of outliers is {outliers_maker_wheelers_2_sold.shape[0]}\")"
   ]
  },
  {
   "cell_type": "code",
   "execution_count": 137,
   "metadata": {},
   "outputs": [
    {
     "name": "stderr",
     "output_type": "stream",
     "text": [
      "C:\\Users\\PC\\AppData\\Local\\Temp\\ipykernel_13080\\1559895754.py:3: UserWarning: Could not infer format, so each element will be parsed individually, falling back to `dateutil`. To ensure parsing is consistent and as-expected, please specify a format.\n",
      "  outliers_maker_wheelers_2['date'] = pd.to_datetime(outliers_maker_wheelers_2['date'])\n"
     ]
    },
    {
     "data": {
      "image/png": "[encoded data removed]",
      "text/plain": [
       "<Figure size 2000x1000 with 1 Axes>"
      ]
     },
     "metadata": {},
     "output_type": "display_data"
    }
   ],
   "source": [
    "# groupby 'electric_vehicles_sold' by 'date',and 'state'\n",
    "outliers_maker_wheelers_2 = outliers_maker_wheelers_2_sold.groupby(['date']).agg(total_sold=('electric_vehicles_sold','sum')).reset_index()\n",
    "outliers_maker_wheelers_2['date'] = pd.to_datetime(outliers_maker_wheelers_2['date'])\n",
    "# set the size of the figure\n",
    "plt.figure(figsize=(20,10))\n",
    "# plot the line chart for the column\n",
    "ax = sns.lineplot(data=outliers_maker_wheelers_2, x='date', y='total_sold', marker='o', color='#C40C0C')\n",
    "# set the line chart for the column\n",
    "plt.title(\"Distribution of Total Sold Quantity that are outliers by Date\")\n",
    "plt.xlabel('Date')\n",
    "plt.ylabel('Total Sold Quantity Outlier Values')\n",
    "plt.ylim(outliers_maker_wheelers_2['total_sold'].min()*0.95, outliers_maker_wheelers_2['total_sold'].max()*1.05) # set x-ticks with labels\n",
    "plt.grid()\n",
    "# Adjust layout\n",
    "plt.tight_layout()\n",
    "# show the plot\n",
    "plt.show()"
   ]
  },
  {
   "cell_type": "markdown",
   "metadata": {},
   "source": [
    "## Export Processed Data"
   ]
  },
  {
   "cell_type": "code",
   "execution_count": 138,
   "metadata": {},
   "outputs": [],
   "source": [
    "# sales by states\n",
    "#sales_by_states.to_csv(\"C:/Users/PC/Downloads/General_Motors-Provide_Insights_to_Chief_in_Electric_and_Hybrid_Vehicles/data/processed_data/electric_vehicle_sales_by_state.csv\")\n",
    "# sales by makers\n",
    "#sales_by_makers.to_csv(\"C:/Users/PC/Downloads/General_Motors-Provide_Insights_to_Chief_in_Electric_and_Hybrid_Vehicles/data/processed_data/electric_vehicle_sales_by_makers.csv\")"
   ]
  },
  {
   "cell_type": "markdown",
   "metadata": {},
   "source": [
    "# Next Steps"
   ]
  }
 ],
 "metadata": {
  "kernelspec": {
   "display_name": "Python 3",
   "language": "python",
   "name": "python3"
  },
  "language_info": {
   "codemirror_mode": {
    "name": "ipython",
    "version": 3
   },
   "file_extension": ".py",
   "mimetype": "text/x-python",
   "name": "python",
   "nbconvert_exporter": "python",
   "pygments_lexer": "ipython3",
   "version": "3.11.4"
  }
 },
 "nbformat": 4,
 "nbformat_minor": 2
}
